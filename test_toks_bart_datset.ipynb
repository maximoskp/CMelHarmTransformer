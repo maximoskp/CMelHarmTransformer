{
 "cells": [
  {
   "cell_type": "code",
   "execution_count": 1,
   "metadata": {},
   "outputs": [
    {
     "name": "stderr",
     "output_type": "stream",
     "text": [
      "/home/maximos/miniconda3/envs/torch/lib/python3.12/site-packages/tqdm/auto.py:21: TqdmWarning: IProgress not found. Please update jupyter and ipywidgets. See https://ipywidgets.readthedocs.io/en/stable/user_install.html\n",
      "  from .autonotebook import tqdm as notebook_tqdm\n"
     ]
    }
   ],
   "source": [
    "from harmony_tokenizers_m21 import ChordSymbolTokenizer, PitchClassTokenizer, MelodyPitchTokenizer, MergedMelHarmTokenizer\n",
    "from data_utils import StructBARTMelHarmDataset\n",
    "from torch.utils.data import DataLoader\n",
    "from transformers import BartForConditionalGeneration, BartConfig, DataCollatorForSeq2Seq"
   ]
  },
  {
   "cell_type": "code",
   "execution_count": 2,
   "metadata": {},
   "outputs": [],
   "source": [
    "train_dir = '/media/maindisk/maximos/data/hooktheory_train'"
   ]
  },
  {
   "cell_type": "code",
   "execution_count": 3,
   "metadata": {},
   "outputs": [],
   "source": [
    "cstok = ChordSymbolTokenizer()\n",
    "pctok = PitchClassTokenizer()\n",
    "meltok = MelodyPitchTokenizer()\n",
    "tokenizer = MergedMelHarmTokenizer(meltok, pctok)"
   ]
  },
  {
   "cell_type": "code",
   "execution_count": 4,
   "metadata": {},
   "outputs": [
    {
     "name": "stdout",
     "output_type": "stream",
     "text": [
      "211\n",
      "8\n",
      "7\n",
      "9\n"
     ]
    }
   ],
   "source": [
    "print(len(tokenizer.vocab))\n",
    "print(tokenizer.vocab['</m>'])\n",
    "print(tokenizer.vocab['<h>'])\n",
    "print(tokenizer.vocab['<fill>'])"
   ]
  },
  {
   "cell_type": "code",
   "execution_count": 5,
   "metadata": {},
   "outputs": [],
   "source": [
    "train_dataset = StructBARTMelHarmDataset(train_dir, tokenizer, max_length=512, num_bars=64)"
   ]
  },
  {
   "cell_type": "code",
   "execution_count": 6,
   "metadata": {},
   "outputs": [
    {
     "name": "stderr",
     "output_type": "stream",
     "text": [
      "/home/maximos/miniconda3/envs/torch/lib/python3.12/site-packages/music21/stream/base.py:3694: Music21DeprecationWarning: .flat is deprecated.  Call .flatten() instead\n",
      "  return self.iter().getElementsByClass(classFilterList)\n"
     ]
    }
   ],
   "source": [
    "d = train_dataset[0]"
   ]
  },
  {
   "cell_type": "code",
   "execution_count": 7,
   "metadata": {},
   "outputs": [
    {
     "name": "stdout",
     "output_type": "stream",
     "text": [
      "{'input_ids': tensor([  2,   6, 183,  98,   4, 106,  53, 108,  56, 112,  58, 118,  56, 122,\n",
      "         58, 126,  56,   6,  98,  61, 106,  58, 110,  58, 114,  56, 122,  54,\n",
      "        126,  56,   6,  98,  56, 102,   4,   6,  98,   4,   6,  98,   4, 106,\n",
      "         53, 108,  56, 112,  58, 118,  56, 122,  58, 128,  56,   6,  98,  61,\n",
      "        102,  61, 106,   4, 110,  58, 114,  56, 122,  54, 126,  56,   6,  98,\n",
      "         56, 102,   4,   6,  98,   4,   6,  98,   4, 102,  49, 106,  53, 108,\n",
      "         56, 112,  58, 118,  56, 122,   4, 126,  56,   6,  98,  61, 106,  58,\n",
      "        110,  58, 114,  56, 122,  54, 126,  56,   6,  98,  56, 102,  53, 110,\n",
      "          4, 126,   4,   6,  98,   4,   6,  98,   4, 106,  53, 112,  56, 114,\n",
      "         58, 118,  56, 126,  61,   6,  98,  61, 102,  61, 106,  58, 110,  56,\n",
      "        114,  56, 122,  54, 126,  56,   6,  98,  56, 106,   4,   6,  98,   4,\n",
      "        110,   4, 126,   4,   8,   6,   9,   6,   9,   6,   9,   6,   9,   6,\n",
      "          9,   6,   9,   6,   9,   6,   9,   6,   9,   6,   9,   6,   9,   6,\n",
      "          9,   6,   9,   6,   9,   6,   9,   6,  98, 199, 203, 206,   9]), 'attention_mask': tensor([1, 1, 1, 1, 1, 1, 1, 1, 1, 1, 1, 1, 1, 1, 1, 1, 1, 1, 1, 1, 1, 1, 1, 1,\n",
      "        1, 1, 1, 1, 1, 1, 1, 1, 1, 1, 1, 1, 1, 1, 1, 1, 1, 1, 1, 1, 1, 1, 1, 1,\n",
      "        1, 1, 1, 1, 1, 1, 1, 1, 1, 1, 1, 1, 1, 1, 1, 1, 1, 1, 1, 1, 1, 1, 1, 1,\n",
      "        1, 1, 1, 1, 1, 1, 1, 1, 1, 1, 1, 1, 1, 1, 1, 1, 1, 1, 1, 1, 1, 1, 1, 1,\n",
      "        1, 1, 1, 1, 1, 1, 1, 1, 1, 1, 1, 1, 1, 1, 1, 1, 1, 1, 1, 1, 1, 1, 1, 1,\n",
      "        1, 1, 1, 1, 1, 1, 1, 1, 1, 1, 1, 1, 1, 1, 1, 1, 1, 1, 1, 1, 1, 1, 1, 1,\n",
      "        1, 1, 1, 1, 1, 1, 1, 1, 1, 1, 1, 1, 1, 1, 1, 1, 1, 1, 1, 1, 1, 1, 1, 1,\n",
      "        1, 1, 1, 1, 1, 1, 1, 1, 1, 1, 1, 1, 1, 1, 1, 1, 1, 1, 1, 1, 1, 1, 1, 1,\n",
      "        1, 1, 1]), 'labels': tensor([  7,   6,  98, 199, 203, 206, 114, 199, 201, 206,   6,  98, 199, 204,\n",
      "        208, 110, 199, 201, 206,   6,  98, 199, 203, 206, 114, 199, 201, 206,\n",
      "          6,  98, 199, 204, 206, 110, 199, 204, 208,   6,  98, 199, 203, 206,\n",
      "        114, 199, 201, 206,   6,  98, 199, 204, 208, 110, 199, 201, 206,   6,\n",
      "         98, 201, 204, 209, 112, 199, 204, 208,   6,  98, 199, 203, 206, 110,\n",
      "        201, 206, 210,   6,  98, 199, 203, 206, 114, 199, 201, 206,   6,  98,\n",
      "        199, 204, 208, 110, 199, 201, 206,   6,  98, 199, 203, 206, 114, 199,\n",
      "        201, 206,   6,  98, 199, 204, 206, 110, 199, 204, 208,   6,  98, 199,\n",
      "        203, 206, 114, 199, 201, 206,   6,  98, 199, 204, 208, 110, 199, 201,\n",
      "        206,   6,  98, 201, 204, 209, 112, 199, 204, 208,   6,  98, 199, 203,\n",
      "        206, 110, 201, 206,   3])}\n"
     ]
    }
   ],
   "source": [
    "print(d)"
   ]
  },
  {
   "cell_type": "code",
   "execution_count": 8,
   "metadata": {},
   "outputs": [],
   "source": [
    "bart_config = BartConfig(\n",
    "    vocab_size=len(tokenizer.vocab),\n",
    "    pad_token_id=tokenizer.pad_token_id,\n",
    "    bos_token_id=tokenizer.bos_token_id,\n",
    "    eos_token_id=tokenizer.eos_token_id,\n",
    "    decoder_start_token_id=tokenizer.bos_token_id,\n",
    "    forced_eos_token_id=tokenizer.eos_token_id,\n",
    "    max_position_embeddings=512,\n",
    "    encoder_layers=8,\n",
    "    encoder_attention_heads=8, #16,\n",
    "    encoder_ffn_dim=512,\n",
    "    decoder_layers=8,\n",
    "    decoder_attention_heads=8, #16,\n",
    "    decoder_ffn_dim=512,\n",
    "    d_model=512,\n",
    "    encoder_layerdrop=0.25, #0.1,\n",
    "    decoder_layerdrop=0.25, #0.1,\n",
    "    dropout=0.25 #0.1\n",
    ")\n",
    "\n",
    "model = BartForConditionalGeneration(bart_config)"
   ]
  },
  {
   "cell_type": "code",
   "execution_count": 9,
   "metadata": {},
   "outputs": [],
   "source": [
    "def create_data_collator(tokenizer, model):\n",
    "    return DataCollatorForSeq2Seq(tokenizer=tokenizer, model=model, padding=True)\n",
    "\n",
    "collator = create_data_collator(tokenizer, model=model)\n",
    "\n",
    "trainloader = DataLoader(train_dataset, batch_size=16, shuffle=True, collate_fn=collator)"
   ]
  },
  {
   "cell_type": "code",
   "execution_count": 10,
   "metadata": {},
   "outputs": [
    {
     "name": "stderr",
     "output_type": "stream",
     "text": [
      "/home/maximos/miniconda3/envs/torch/lib/python3.12/site-packages/music21/stream/base.py:3694: Music21DeprecationWarning: .flat is deprecated.  Call .flatten() instead\n",
      "  return self.iter().getElementsByClass(classFilterList)\n",
      "/home/maximos/miniconda3/envs/torch/lib/python3.12/site-packages/transformers/data/data_collator.py:656: UserWarning: Creating a tensor from a list of numpy.ndarrays is extremely slow. Please consider converting the list to a single numpy.ndarray with numpy.array() before converting to a tensor. (Triggered internally at ../torch/csrc/utils/tensor_new.cpp:275.)\n",
      "  batch[\"labels\"] = torch.tensor(batch[\"labels\"], dtype=torch.int64)\n"
     ]
    }
   ],
   "source": [
    "batch = next(iter(trainloader))"
   ]
  },
  {
   "cell_type": "code",
   "execution_count": 11,
   "metadata": {},
   "outputs": [
    {
     "name": "stdout",
     "output_type": "stream",
     "text": [
      "tensor([  2,   6, 183,  98,  58, 102,  56,   6,  98,  51, 102,  49, 118,  49,\n",
      "        122,   4,   6,  98,  49, 110,  49, 114,  51, 118,  53, 122,  56, 126,\n",
      "         53,   6,  98,  53, 114,   4,   8,   6,  98, 199, 203, 206, 210,   9,\n",
      "          6,   9,   6,   9,   6,   9,   1,   1,   1,   1,   1,   1,   1,   1,\n",
      "          1,   1,   1,   1,   1,   1,   1,   1,   1,   1,   1,   1,   1,   1,\n",
      "          1,   1,   1,   1,   1,   1,   1,   1,   1,   1,   1,   1,   1,   1,\n",
      "          1,   1,   1,   1,   1,   1,   1,   1,   1,   1,   1,   1,   1,   1,\n",
      "          1,   1,   1,   1,   1,   1,   1,   1,   1,   1,   1,   1,   1,   1,\n",
      "          1,   1,   1,   1,   1,   1,   1,   1,   1,   1,   1,   1,   1,   1,\n",
      "          1,   1,   1,   1,   1,   1,   1,   1,   1,   1,   1,   1,   1,   1,\n",
      "          1,   1,   1,   1,   1,   1,   1,   1,   1,   1,   1,   1,   1,   1,\n",
      "          1,   1,   1,   1,   1,   1,   1,   1,   1,   1,   1,   1,   1,   1,\n",
      "          1,   1,   1,   1,   1,   1,   1,   1,   1,   1,   1,   1,   1,   1,\n",
      "          1,   1,   1,   1,   1,   1,   1,   1,   1,   1,   1,   1,   1,   1,\n",
      "          1,   1,   1,   1,   1,   1,   1,   1,   1,   1,   1,   1,   1,   1,\n",
      "          1,   1,   1,   1,   1,   1,   1,   1,   1,   1,   1,   1,   1,   1,\n",
      "          1,   1,   1,   1,   1,   1,   1,   1,   1,   1,   1,   1,   1,   1,\n",
      "          1,   1,   1,   1,   1,   1,   1,   1,   1,   1,   1,   1,   1,   1,\n",
      "          1,   1,   1,   1,   1,   1,   1])\n"
     ]
    }
   ],
   "source": [
    "print(batch['input_ids'][0])"
   ]
  }
 ],
 "metadata": {
  "kernelspec": {
   "display_name": "torch",
   "language": "python",
   "name": "python3"
  },
  "language_info": {
   "codemirror_mode": {
    "name": "ipython",
    "version": 3
   },
   "file_extension": ".py",
   "mimetype": "text/x-python",
   "name": "python",
   "nbconvert_exporter": "python",
   "pygments_lexer": "ipython3",
   "version": "3.12.2"
  }
 },
 "nbformat": 4,
 "nbformat_minor": 2
}
