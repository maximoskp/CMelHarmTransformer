{
 "cells": [
  {
   "cell_type": "code",
   "execution_count": 1,
   "id": "36368cfe",
   "metadata": {},
   "outputs": [],
   "source": [
    "import pandas as pd"
   ]
  },
  {
   "cell_type": "code",
   "execution_count": 2,
   "id": "ccb6ea3a",
   "metadata": {},
   "outputs": [],
   "source": [
    "# bart_cs_df = pd.read_csv('tokenized/bart_beam_7_temp_0x0/ChordSymbolTokenizer.csv')\n",
    "# bart_pc_df = pd.read_csv('tokenized/bart_beam_7_temp_0x0/PitchClassTokenizer.csv')\n",
    "gpt_cs_df = pd.read_csv('tokenized/gpt_astar_10_5/ChordSymbolTokenizer.csv')\n",
    "gpt_pc_df = pd.read_csv('tokenized/gpt_astar_10_5/PitchClassTokenizer.csv')"
   ]
  },
  {
   "cell_type": "code",
   "execution_count": 3,
   "id": "142d57df",
   "metadata": {},
   "outputs": [
    {
     "data": {
      "text/html": [
       "<div>\n",
       "<style scoped>\n",
       "    .dataframe tbody tr th:only-of-type {\n",
       "        vertical-align: middle;\n",
       "    }\n",
       "\n",
       "    .dataframe tbody tr th {\n",
       "        vertical-align: top;\n",
       "    }\n",
       "\n",
       "    .dataframe thead th {\n",
       "        text-align: right;\n",
       "    }\n",
       "</style>\n",
       "<table border=\"1\" class=\"dataframe\">\n",
       "  <thead>\n",
       "    <tr style=\"text-align: right;\">\n",
       "      <th></th>\n",
       "      <th>melody</th>\n",
       "      <th>real</th>\n",
       "      <th>generated</th>\n",
       "      <th>constraints</th>\n",
       "      <th>success</th>\n",
       "      <th>model_calls</th>\n",
       "    </tr>\n",
       "  </thead>\n",
       "  <tbody>\n",
       "    <tr>\n",
       "      <th>0</th>\n",
       "      <td>&lt;s&gt; &lt;bar&gt; ts_4x4 position_0x00 P:64 position_2...</td>\n",
       "      <td>&lt;h&gt; &lt;bar&gt; position_0x00 C:maj &lt;bar&gt; position_0...</td>\n",
       "      <td>&lt;h&gt; &lt;bar&gt; position_0x00 C:maj &lt;bar&gt; position_0...</td>\n",
       "      <td>&lt;/m&gt; &lt;bar&gt; position_0x00 C:maj &lt;fill&gt; &lt;bar&gt; &lt;f...</td>\n",
       "      <td>True</td>\n",
       "      <td>30</td>\n",
       "    </tr>\n",
       "    <tr>\n",
       "      <th>1</th>\n",
       "      <td>&lt;s&gt; &lt;bar&gt; ts_4x4 position_0x00 P:64 position_2...</td>\n",
       "      <td>&lt;h&gt; &lt;bar&gt; position_0x00 C:maj &lt;bar&gt; position_0...</td>\n",
       "      <td>&lt;h&gt; &lt;bar&gt; position_0x00 C:maj &lt;bar&gt; position_0...</td>\n",
       "      <td>&lt;/m&gt; &lt;bar&gt; position_0x00 C:maj &lt;fill&gt; &lt;bar&gt; &lt;f...</td>\n",
       "      <td>True</td>\n",
       "      <td>30</td>\n",
       "    </tr>\n",
       "    <tr>\n",
       "      <th>2</th>\n",
       "      <td>&lt;s&gt; &lt;bar&gt; ts_4x4 position_0x00 &lt;rest&gt; position...</td>\n",
       "      <td>&lt;h&gt; &lt;bar&gt; position_0x00 G:maj position_1x50 G:...</td>\n",
       "      <td>&lt;h&gt; &lt;bar&gt; position_0x00 D:maj &lt;bar&gt; position_0...</td>\n",
       "      <td>&lt;/m&gt; &lt;bar&gt; &lt;fill&gt; &lt;bar&gt; &lt;fill&gt; &lt;bar&gt; &lt;fill&gt; &lt;b...</td>\n",
       "      <td>True</td>\n",
       "      <td>122</td>\n",
       "    </tr>\n",
       "    <tr>\n",
       "      <th>3</th>\n",
       "      <td>&lt;s&gt; &lt;bar&gt; ts_4x4 position_0x00 P:64 position_0...</td>\n",
       "      <td>&lt;h&gt; &lt;bar&gt; position_0x00 A:min position_1x50 F:...</td>\n",
       "      <td>&lt;h&gt; &lt;bar&gt; position_0x00 A:min &lt;bar&gt; position_0...</td>\n",
       "      <td>&lt;/m&gt; &lt;bar&gt; &lt;fill&gt; &lt;bar&gt; &lt;fill&gt; &lt;bar&gt; &lt;fill&gt; &lt;b...</td>\n",
       "      <td>True</td>\n",
       "      <td>36</td>\n",
       "    </tr>\n",
       "    <tr>\n",
       "      <th>4</th>\n",
       "      <td>&lt;s&gt; &lt;bar&gt; ts_4x4 position_0x00 P:65 position_2...</td>\n",
       "      <td>&lt;h&gt; &lt;bar&gt; position_2x00 F:maj &lt;bar&gt; position_0...</td>\n",
       "      <td>&lt;h&gt; &lt;bar&gt; position_0x00 F:maj &lt;bar&gt; position_0...</td>\n",
       "      <td>&lt;/m&gt; &lt;bar&gt; &lt;fill&gt; &lt;bar&gt; position_0x00 F:maj &lt;f...</td>\n",
       "      <td>True</td>\n",
       "      <td>30</td>\n",
       "    </tr>\n",
       "  </tbody>\n",
       "</table>\n",
       "</div>"
      ],
      "text/plain": [
       "                                              melody  \\\n",
       "0  <s> <bar> ts_4x4 position_0x00 P:64 position_2...   \n",
       "1  <s> <bar> ts_4x4 position_0x00 P:64 position_2...   \n",
       "2  <s> <bar> ts_4x4 position_0x00 <rest> position...   \n",
       "3  <s> <bar> ts_4x4 position_0x00 P:64 position_0...   \n",
       "4  <s> <bar> ts_4x4 position_0x00 P:65 position_2...   \n",
       "\n",
       "                                                real  \\\n",
       "0  <h> <bar> position_0x00 C:maj <bar> position_0...   \n",
       "1  <h> <bar> position_0x00 C:maj <bar> position_0...   \n",
       "2  <h> <bar> position_0x00 G:maj position_1x50 G:...   \n",
       "3  <h> <bar> position_0x00 A:min position_1x50 F:...   \n",
       "4  <h> <bar> position_2x00 F:maj <bar> position_0...   \n",
       "\n",
       "                                           generated  \\\n",
       "0  <h> <bar> position_0x00 C:maj <bar> position_0...   \n",
       "1  <h> <bar> position_0x00 C:maj <bar> position_0...   \n",
       "2  <h> <bar> position_0x00 D:maj <bar> position_0...   \n",
       "3  <h> <bar> position_0x00 A:min <bar> position_0...   \n",
       "4  <h> <bar> position_0x00 F:maj <bar> position_0...   \n",
       "\n",
       "                                         constraints  success  model_calls  \n",
       "0  </m> <bar> position_0x00 C:maj <fill> <bar> <f...     True           30  \n",
       "1  </m> <bar> position_0x00 C:maj <fill> <bar> <f...     True           30  \n",
       "2  </m> <bar> <fill> <bar> <fill> <bar> <fill> <b...     True          122  \n",
       "3  </m> <bar> <fill> <bar> <fill> <bar> <fill> <b...     True           36  \n",
       "4  </m> <bar> <fill> <bar> position_0x00 F:maj <f...     True           30  "
      ]
     },
     "execution_count": 3,
     "metadata": {},
     "output_type": "execute_result"
    }
   ],
   "source": [
    "gpt_cs_df.head()"
   ]
  },
  {
   "cell_type": "code",
   "execution_count": 4,
   "id": "a7999493",
   "metadata": {},
   "outputs": [
    {
     "name": "stdout",
     "output_type": "stream",
     "text": [
      "success:\n",
      "gpt_cs:  0.993421052631579\n",
      "gpt_pc:  0.9993421052631579\n"
     ]
    }
   ],
   "source": [
    "print('success:')\n",
    "# print('bart_cs: ', bart_cs_df['success'].mean())\n",
    "# print('bart_pc: ', bart_pc_df['success'].mean())\n",
    "print('gpt_cs: ', gpt_cs_df['success'].mean())\n",
    "print('gpt_pc: ', gpt_pc_df['success'].mean())"
   ]
  },
  {
   "cell_type": "code",
   "execution_count": 7,
   "id": "f88c4f41",
   "metadata": {},
   "outputs": [
    {
     "name": "stdout",
     "output_type": "stream",
     "text": [
      "mean calls\n",
      "gpt_cs:  254.96973684210528\n",
      "gpt_pc:  178.48223684210527\n"
     ]
    }
   ],
   "source": [
    "print('mean calls')\n",
    "print('gpt_cs: ', gpt_cs_df['model_calls'].mean())\n",
    "print('gpt_pc: ', gpt_pc_df['model_calls'].mean())"
   ]
  },
  {
   "cell_type": "code",
   "execution_count": 13,
   "id": "1fbebf79",
   "metadata": {},
   "outputs": [],
   "source": [
    "# gpt_cs_df.boxplot(['model_calls'])\n",
    "# gpt_pc_df.boxplot(['model_calls'])"
   ]
  }
 ],
 "metadata": {
  "kernelspec": {
   "display_name": "torch",
   "language": "python",
   "name": "python3"
  },
  "language_info": {
   "codemirror_mode": {
    "name": "ipython",
    "version": 3
   },
   "file_extension": ".py",
   "mimetype": "text/x-python",
   "name": "python",
   "nbconvert_exporter": "python",
   "pygments_lexer": "ipython3",
   "version": "3.12.2"
  }
 },
 "nbformat": 4,
 "nbformat_minor": 5
}
