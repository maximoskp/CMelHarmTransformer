{
 "cells": [
  {
   "cell_type": "code",
   "execution_count": 12,
   "metadata": {},
   "outputs": [],
   "source": [
    "# check the percentages of random same-bar chords in generated without constraints\n",
    "import pandas as pd\n",
    "import numpy as np"
   ]
  },
  {
   "cell_type": "code",
   "execution_count": 2,
   "metadata": {},
   "outputs": [],
   "source": [
    "bart_cs_df = pd.read_csv('tokenized/no_constraints/bart_beam_7_temp_0x0/ChordSymbolTokenizer.csv')\n",
    "bart_pc_df = pd.read_csv('tokenized/no_constraints/bart_beam_7_temp_0x0/PitchClassTokenizer.csv')\n",
    "gpt_cs_df = pd.read_csv('tokenized/no_constraints/gpt_beam_7_temp_0x0/ChordSymbolTokenizer.csv')\n",
    "gpt_pc_df = pd.read_csv('tokenized/no_constraints/gpt_beam_7_temp_0x0/PitchClassTokenizer.csv')"
   ]
  },
  {
   "cell_type": "code",
   "execution_count": 13,
   "metadata": {},
   "outputs": [],
   "source": [
    "def is_sublist_contiguous(q, d):\n",
    "    q_len = len(q)\n",
    "    for i in range(len(d) - q_len + 1):\n",
    "        if d[i:i + q_len] == q:\n",
    "            return True\n",
    "    return False"
   ]
  },
  {
   "cell_type": "code",
   "execution_count": 5,
   "metadata": {},
   "outputs": [],
   "source": [
    "real = bart_cs_df['real'].iloc[0]\n",
    "gen = bart_cs_df['generated'].iloc[0]"
   ]
  },
  {
   "cell_type": "code",
   "execution_count": null,
   "metadata": {},
   "outputs": [],
   "source": [
    "# def get_cs_same_bar_percentages(real, gen):\n",
    "real_tokens = real.split()\n",
    "gen_tokens = gen.split()"
   ]
  },
  {
   "cell_type": "code",
   "execution_count": null,
   "metadata": {},
   "outputs": [],
   "source": [
    "# get number of bars\n",
    "num_bars = min(real_tokens.count('<bar>') , gen_tokens.count('<bar>') )\n",
    "# assume no chord token as constraint so far\n",
    "chord_token = None\n",
    "# Find indices of all bars\n",
    "real_indices = [i for i, val in enumerate(real_tokens) if val == '<bar>']\n",
    "gen_indices = [i for i, val in enumerate(gen_tokens) if val == '<bar>']\n",
    "bar_index = -1\n",
    "tries = 10\n",
    "chord_token = None\n",
    "while chord_token == None and tries > 0:\n",
    "    tries -= 1\n",
    "    # get a random bar\n",
    "    rand_bar_num = np.random.randint( num_bars )\n",
    "    # REAL: Get the index of the rand_bar_num occurrence (zero-based index)\n",
    "    if len(real_indices) > rand_bar_num+1:\n",
    "        real_bar_index = real_indices[rand_bar_num]\n",
    "        real_next_bar_index = real_indices[rand_bar_num+1]\n",
    "    else:\n",
    "        # check if there are any bars at all\n",
    "        if len(real_indices) == 0:\n",
    "            print('This piece has no bars.')\n",
    "            break\n",
    "        # the last bar\n",
    "        real_bar_index = real_indices[-1]\n",
    "        real_next_bar_index = len(real_tokens)\n",
    "    # get all tokens between rand_bar and its next\n",
    "    real_bar_tokens = real_tokens[real_bar_index:real_next_bar_index]\n",
    "    # check if bar has a chord\n",
    "    i = 0\n",
    "    while i < len(real_bar_tokens):\n",
    "        if 'position_' in real_bar_tokens[i]:\n",
    "            # keep position token\n",
    "            position_token = real_bar_tokens[i]\n",
    "            # check if chord starts bar\n",
    "            chord_starts_bar = real_bar_tokens[i] == 'position_0x00'\n",
    "            if i+1 < len(real_bar_tokens):\n",
    "                chord_token = real_bar_tokens[i+1]\n",
    "            break\n",
    "        i += 1\n",
    "    # end for\n",
    "# end while\n",
    "# GEN: Get the index of the rand_bar_num occurrence (zero-based index)\n",
    "if len(gen_indices) > rand_bar_num+1:\n",
    "    gen_bar_index = gen_indices[rand_bar_num]\n",
    "    gen_next_bar_index = gen_indices[rand_bar_num+1]\n",
    "else:\n",
    "    # check if there are any bars at all\n",
    "    if len(gen_indices) == 0:\n",
    "        print('This piece has no bars.')\n",
    "    # the last bar\n",
    "    gen_bar_index = gen_indices[-1]\n",
    "    gen_next_bar_index = len(gen_tokens)\n",
    "# get all tokens between rand_bar and its next\n",
    "gen_bar_tokens = gen_tokens[gen_bar_index:gen_next_bar_index]"
   ]
  }
 ],
 "metadata": {
  "kernelspec": {
   "display_name": "torch",
   "language": "python",
   "name": "python3"
  },
  "language_info": {
   "codemirror_mode": {
    "name": "ipython",
    "version": 3
   },
   "file_extension": ".py",
   "mimetype": "text/x-python",
   "name": "python",
   "nbconvert_exporter": "python",
   "pygments_lexer": "ipython3",
   "version": "3.12.2"
  }
 },
 "nbformat": 4,
 "nbformat_minor": 2
}
