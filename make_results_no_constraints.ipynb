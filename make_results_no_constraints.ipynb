{
 "cells": [
  {
   "cell_type": "code",
   "execution_count": 81,
   "metadata": {},
   "outputs": [],
   "source": [
    "# check the percentages of random same-bar chords in generated without constraints\n",
    "import pandas as pd\n",
    "import numpy as np"
   ]
  },
  {
   "cell_type": "code",
   "execution_count": 82,
   "metadata": {},
   "outputs": [],
   "source": [
    "bart_cs_df = pd.read_csv('tokenized/no_bart_beam_7_temp_0x0/ChordSymbolTokenizer.csv')\n",
    "bart_pc_df = pd.read_csv('tokenized/no_bart_beam_7_temp_0x0/PitchClassTokenizer.csv')\n",
    "gpt_cs_df = pd.read_csv('tokenized/no_gpt_beam_7_temp_0x0/ChordSymbolTokenizer.csv')\n",
    "gpt_pc_df = pd.read_csv('tokenized/no_gpt_beam_7_temp_0x0/PitchClassTokenizer.csv')"
   ]
  },
  {
   "cell_type": "code",
   "execution_count": 83,
   "metadata": {},
   "outputs": [],
   "source": [
    "def is_sublist_contiguous(q, d):\n",
    "    q_len = len(q)\n",
    "    for i in range(len(d) - q_len + 1):\n",
    "        if d[i:i + q_len] == q:\n",
    "            return True\n",
    "    return False"
   ]
  },
  {
   "cell_type": "code",
   "execution_count": 84,
   "metadata": {},
   "outputs": [],
   "source": [
    "def check_random_chord_coinsidence(real, gen, mode='cs'):\n",
    "    real_tokens = real.split()\n",
    "    gen_tokens = gen.split()\n",
    "    # get number of bars\n",
    "    num_bars = min(real_tokens.count('<bar>') , gen_tokens.count('<bar>') )\n",
    "    if num_bars <= 0:\n",
    "        return 0\n",
    "    # assume no chord token as constraint so far\n",
    "    chord_token = None\n",
    "    position_token = None\n",
    "    pcs = []\n",
    "    # Find indices of all bars\n",
    "    real_indices = [i for i, val in enumerate(real_tokens) if val == '<bar>']\n",
    "    gen_indices = [i for i, val in enumerate(gen_tokens) if val == '<bar>']\n",
    "    bar_index = -1\n",
    "    tries = 10\n",
    "    chord_token = None\n",
    "    while chord_token == None and tries > 0:\n",
    "        tries -= 1\n",
    "        # get a random bar\n",
    "        rand_bar_num = np.random.randint( num_bars )\n",
    "        # REAL: Get the index of the rand_bar_num occurrence (zero-based index)\n",
    "        if len(real_indices) > rand_bar_num+1:\n",
    "            real_bar_index = real_indices[rand_bar_num]\n",
    "            real_next_bar_index = real_indices[rand_bar_num+1]\n",
    "        else:\n",
    "            # check if there are any bars at all\n",
    "            if len(real_indices) == 0:\n",
    "                print('This piece has no bars.')\n",
    "                break\n",
    "            # the last bar\n",
    "            real_bar_index = real_indices[-1]\n",
    "            real_next_bar_index = len(real_tokens)\n",
    "        # get all tokens between rand_bar and its next\n",
    "        real_bar_tokens = real_tokens[real_bar_index:real_next_bar_index]\n",
    "        # check if bar has a chord\n",
    "        i = 0\n",
    "        while i < len(real_bar_tokens):\n",
    "            if 'position_' in real_bar_tokens[i]:\n",
    "                # keep position token\n",
    "                position_token = real_bar_tokens[i]\n",
    "                if mode == 'cs':\n",
    "                    if i+1 < len(real_bar_tokens):\n",
    "                        chord_token = real_bar_tokens[i+1]\n",
    "                    break\n",
    "                elif mode == 'pc':\n",
    "                    if i+1 < len(real_bar_tokens):\n",
    "                        i += 1\n",
    "                        while i < len(real_bar_tokens) and 'bar' not in real_bar_tokens[i] and \\\n",
    "                            'position' not in real_bar_tokens[i] and \\\n",
    "                            '</s>' not in real_bar_tokens[i]:\n",
    "                            if 'chord_pc_' in real_bar_tokens[i]:\n",
    "                                pcs.append( real_bar_tokens[i] )\n",
    "                            i += 1\n",
    "            i += 1\n",
    "            if position_token is not None:\n",
    "                break\n",
    "        # end bar while\n",
    "    # end tries while\n",
    "    if mode == 'cs':\n",
    "        if position_token is not None and chord_token is not None:\n",
    "            real_target = [position_token, chord_token]\n",
    "        else:\n",
    "            real_target = ['x']\n",
    "    elif mode == 'pc':\n",
    "        if position_token is not None and len(pcs) > 0:\n",
    "            real_target = [position_token] + pcs\n",
    "        else:\n",
    "            real_target = ['x']\n",
    "    # GEN: Get the index of the rand_bar_num occurrence (zero-based index)\n",
    "    if len(gen_indices) > rand_bar_num+1:\n",
    "        gen_bar_index = gen_indices[rand_bar_num]\n",
    "        gen_next_bar_index = gen_indices[rand_bar_num+1]\n",
    "    else:\n",
    "        # check if there are any bars at all\n",
    "        if len(gen_indices) == 0:\n",
    "            print('This piece has no bars.')\n",
    "        # the last bar\n",
    "        gen_bar_index = gen_indices[-1]\n",
    "        gen_next_bar_index = len(gen_tokens)\n",
    "    # get all tokens between rand_bar and its next\n",
    "    gen_bar_tokens = gen_tokens[gen_bar_index:gen_next_bar_index]\n",
    "    \n",
    "    res = is_sublist_contiguous(real_target, gen_bar_tokens)\n",
    "    return res"
   ]
  },
  {
   "cell_type": "code",
   "execution_count": 85,
   "metadata": {},
   "outputs": [],
   "source": [
    "def get_success_of_df(df_in, mode='cs'):\n",
    "    successes = 0\n",
    "    total = 0\n",
    "    for i in range( len(df_in['real']) ):\n",
    "        successes += check_random_chord_coinsidence( df_in['real'].iloc[i], df_in['generated'].iloc[i] , mode=mode )\n",
    "        total += 1\n",
    "    return successes/total"
   ]
  },
  {
   "cell_type": "code",
   "execution_count": 97,
   "metadata": {},
   "outputs": [
    {
     "name": "stdout",
     "output_type": "stream",
     "text": [
      "bart_cs_successes: 0.27292763157894734\n",
      "bart_pc_successes: 0.20171710526315795\n",
      "gpt_cs_successes: 0.22133552631578945\n",
      "gpt_pc_successes: 0.2181184210526315\n"
     ]
    }
   ],
   "source": [
    "bart_cs_successes = 0\n",
    "bart_pc_successes = 0\n",
    "gpt_cs_successes = 0\n",
    "gpt_pc_successes = 0\n",
    "total_runs = 100\n",
    "\n",
    "for i in range( total_runs ):\n",
    "    print(i, end='\\r')\n",
    "    bart_cs_successes += get_success_of_df(bart_cs_df, mode='cs')/total_runs\n",
    "    bart_pc_successes += get_success_of_df(bart_pc_df, mode='pc')/total_runs\n",
    "    gpt_cs_successes += get_success_of_df(gpt_cs_df, mode='cs')/total_runs\n",
    "    gpt_pc_successes += get_success_of_df(gpt_pc_df, mode='pc')/total_runs\n",
    "\n",
    "print('bart_cs_successes:', bart_cs_successes)\n",
    "print('bart_pc_successes:', bart_pc_successes)\n",
    "print('gpt_cs_successes:', gpt_cs_successes)\n",
    "print('gpt_pc_successes:', gpt_pc_successes)"
   ]
  }
 ],
 "metadata": {
  "kernelspec": {
   "display_name": "torch",
   "language": "python",
   "name": "python3"
  },
  "language_info": {
   "codemirror_mode": {
    "name": "ipython",
    "version": 3
   },
   "file_extension": ".py",
   "mimetype": "text/x-python",
   "name": "python",
   "nbconvert_exporter": "python",
   "pygments_lexer": "ipython3",
   "version": "3.12.2"
  }
 },
 "nbformat": 4,
 "nbformat_minor": 2
}
