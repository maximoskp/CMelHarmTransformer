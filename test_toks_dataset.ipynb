{
 "cells": [
  {
   "cell_type": "code",
   "execution_count": 1,
   "metadata": {},
   "outputs": [
    {
     "name": "stderr",
     "output_type": "stream",
     "text": [
      "/home/maximos/miniconda3/envs/torch/lib/python3.12/site-packages/tqdm/auto.py:21: TqdmWarning: IProgress not found. Please update jupyter and ipywidgets. See https://ipywidgets.readthedocs.io/en/stable/user_install.html\n",
      "  from .autonotebook import tqdm as notebook_tqdm\n"
     ]
    }
   ],
   "source": [
    "from harmony_tokenizers_m21 import ChordSymbolTokenizer, PitchClassTokenizer, MelodyPitchTokenizer, MergedMelHarmTokenizer\n",
    "from data_utils import StructGPTMelHarmDataset, GenCollator\n",
    "from torch.utils.data import DataLoader"
   ]
  },
  {
   "cell_type": "code",
   "execution_count": 2,
   "metadata": {},
   "outputs": [],
   "source": [
    "train_dir = '/media/maindisk/maximos/data/hooktheory_train'"
   ]
  },
  {
   "cell_type": "code",
   "execution_count": 3,
   "metadata": {},
   "outputs": [],
   "source": [
    "cstok = ChordSymbolTokenizer()\n",
    "pctok = PitchClassTokenizer()\n",
    "meltok = MelodyPitchTokenizer()\n",
    "tokenizer = MergedMelHarmTokenizer(meltok, pctok)"
   ]
  },
  {
   "cell_type": "code",
   "execution_count": 12,
   "metadata": {},
   "outputs": [],
   "source": [
    "import os\n",
    "os.makedirs('saved_tokenizers', exist_ok=True)\n",
    "os.makedirs('saved_tokenizers/ChordSymbolTokenizer', exist_ok=True)\n",
    "os.makedirs('saved_tokenizers/PitchClassTokenizer', exist_ok=True)\n",
    "os.makedirs('saved_tokenizers/MelodyPitchTokenizer', exist_ok=True)"
   ]
  },
  {
   "cell_type": "code",
   "execution_count": 13,
   "metadata": {},
   "outputs": [
    {
     "name": "stdout",
     "output_type": "stream",
     "text": [
      "{'<unk>': 0, '<pad>': 1, '<s>': 2, '</s>': 3, '<emp>': 4, '<mask>': 5, '<bar>': 6, '<h>': 7, '</m>': 8, '<fill>': 9, 'position_0x00': 10, 'position_0x16': 11, 'position_0x25': 12, 'position_0x33': 13, 'position_0x50': 14, 'position_0x66': 15, 'position_0x75': 16, 'position_0x83': 17, 'position_1x00': 18, 'position_1x16': 19, 'position_1x25': 20, 'position_1x33': 21, 'position_1x50': 22, 'position_1x66': 23, 'position_1x75': 24, 'position_1x83': 25, 'position_2x00': 26, 'position_2x16': 27, 'position_2x25': 28, 'position_2x33': 29, 'position_2x50': 30, 'position_2x66': 31, 'position_2x75': 32, 'position_2x83': 33, 'position_3x00': 34, 'position_3x16': 35, 'position_3x25': 36, 'position_3x33': 37, 'position_3x50': 38, 'position_3x66': 39, 'position_3x75': 40, 'position_3x83': 41, 'position_4x00': 42, 'position_4x16': 43, 'position_4x25': 44, 'position_4x33': 45, 'position_4x50': 46, 'position_4x66': 47, 'position_4x75': 48, 'position_4x83': 49, 'position_5x00': 50, 'position_5x16': 51, 'position_5x25': 52, 'position_5x33': 53, 'position_5x50': 54, 'position_5x66': 55, 'position_5x75': 56, 'position_5x83': 57, 'position_6x00': 58, 'position_6x16': 59, 'position_6x25': 60, 'position_6x33': 61, 'position_6x50': 62, 'position_6x66': 63, 'position_6x75': 64, 'position_6x83': 65, 'position_7x00': 66, 'position_7x16': 67, 'position_7x25': 68, 'position_7x33': 69, 'position_7x50': 70, 'position_7x66': 71, 'position_7x75': 72, 'position_7x83': 73, 'position_8x00': 74, 'position_8x16': 75, 'position_8x25': 76, 'position_8x33': 77, 'position_8x50': 78, 'position_8x66': 79, 'position_8x75': 80, 'position_8x83': 81, 'position_9x00': 82, 'position_9x16': 83, 'position_9x25': 84, 'position_9x33': 85, 'position_9x50': 86, 'position_9x66': 87, 'position_9x75': 88, 'position_9x83': 89, 'C:maj': 90, 'C:min': 91, 'C:aug': 92, 'C:dim': 93, 'C:sus4': 94, 'C:sus2': 95, 'C:7': 96, 'C:maj7': 97, 'C:min7': 98, 'C:minmaj7': 99, 'C:maj6': 100, 'C:min6': 101, 'C:dim7': 102, 'C:hdim7': 103, 'C:maj9': 104, 'C:min9': 105, 'C:9': 106, 'C:min11': 107, 'C:11': 108, 'C:maj13': 109, 'C:min13': 110, 'C:13': 111, 'C:1': 112, 'C:5': 113, 'C': 114, 'C:7(b9)': 115, 'C:7(#9)': 116, 'C:7(#11)': 117, 'C:7(b13)': 118, 'C#:maj': 119, 'C#:min': 120, 'C#:aug': 121, 'C#:dim': 122, 'C#:sus4': 123, 'C#:sus2': 124, 'C#:7': 125, 'C#:maj7': 126, 'C#:min7': 127, 'C#:minmaj7': 128, 'C#:maj6': 129, 'C#:min6': 130, 'C#:dim7': 131, 'C#:hdim7': 132, 'C#:maj9': 133, 'C#:min9': 134, 'C#:9': 135, 'C#:min11': 136, 'C#:11': 137, 'C#:maj13': 138, 'C#:min13': 139, 'C#:13': 140, 'C#:1': 141, 'C#:5': 142, 'C#': 143, 'C#:7(b9)': 144, 'C#:7(#9)': 145, 'C#:7(#11)': 146, 'C#:7(b13)': 147, 'D:maj': 148, 'D:min': 149, 'D:aug': 150, 'D:dim': 151, 'D:sus4': 152, 'D:sus2': 153, 'D:7': 154, 'D:maj7': 155, 'D:min7': 156, 'D:minmaj7': 157, 'D:maj6': 158, 'D:min6': 159, 'D:dim7': 160, 'D:hdim7': 161, 'D:maj9': 162, 'D:min9': 163, 'D:9': 164, 'D:min11': 165, 'D:11': 166, 'D:maj13': 167, 'D:min13': 168, 'D:13': 169, 'D:1': 170, 'D:5': 171, 'D': 172, 'D:7(b9)': 173, 'D:7(#9)': 174, 'D:7(#11)': 175, 'D:7(b13)': 176, 'D#:maj': 177, 'D#:min': 178, 'D#:aug': 179, 'D#:dim': 180, 'D#:sus4': 181, 'D#:sus2': 182, 'D#:7': 183, 'D#:maj7': 184, 'D#:min7': 185, 'D#:minmaj7': 186, 'D#:maj6': 187, 'D#:min6': 188, 'D#:dim7': 189, 'D#:hdim7': 190, 'D#:maj9': 191, 'D#:min9': 192, 'D#:9': 193, 'D#:min11': 194, 'D#:11': 195, 'D#:maj13': 196, 'D#:min13': 197, 'D#:13': 198, 'D#:1': 199, 'D#:5': 200, 'D#': 201, 'D#:7(b9)': 202, 'D#:7(#9)': 203, 'D#:7(#11)': 204, 'D#:7(b13)': 205, 'E:maj': 206, 'E:min': 207, 'E:aug': 208, 'E:dim': 209, 'E:sus4': 210, 'E:sus2': 211, 'E:7': 212, 'E:maj7': 213, 'E:min7': 214, 'E:minmaj7': 215, 'E:maj6': 216, 'E:min6': 217, 'E:dim7': 218, 'E:hdim7': 219, 'E:maj9': 220, 'E:min9': 221, 'E:9': 222, 'E:min11': 223, 'E:11': 224, 'E:maj13': 225, 'E:min13': 226, 'E:13': 227, 'E:1': 228, 'E:5': 229, 'E': 230, 'E:7(b9)': 231, 'E:7(#9)': 232, 'E:7(#11)': 233, 'E:7(b13)': 234, 'F:maj': 235, 'F:min': 236, 'F:aug': 237, 'F:dim': 238, 'F:sus4': 239, 'F:sus2': 240, 'F:7': 241, 'F:maj7': 242, 'F:min7': 243, 'F:minmaj7': 244, 'F:maj6': 245, 'F:min6': 246, 'F:dim7': 247, 'F:hdim7': 248, 'F:maj9': 249, 'F:min9': 250, 'F:9': 251, 'F:min11': 252, 'F:11': 253, 'F:maj13': 254, 'F:min13': 255, 'F:13': 256, 'F:1': 257, 'F:5': 258, 'F': 259, 'F:7(b9)': 260, 'F:7(#9)': 261, 'F:7(#11)': 262, 'F:7(b13)': 263, 'F#:maj': 264, 'F#:min': 265, 'F#:aug': 266, 'F#:dim': 267, 'F#:sus4': 268, 'F#:sus2': 269, 'F#:7': 270, 'F#:maj7': 271, 'F#:min7': 272, 'F#:minmaj7': 273, 'F#:maj6': 274, 'F#:min6': 275, 'F#:dim7': 276, 'F#:hdim7': 277, 'F#:maj9': 278, 'F#:min9': 279, 'F#:9': 280, 'F#:min11': 281, 'F#:11': 282, 'F#:maj13': 283, 'F#:min13': 284, 'F#:13': 285, 'F#:1': 286, 'F#:5': 287, 'F#': 288, 'F#:7(b9)': 289, 'F#:7(#9)': 290, 'F#:7(#11)': 291, 'F#:7(b13)': 292, 'G:maj': 293, 'G:min': 294, 'G:aug': 295, 'G:dim': 296, 'G:sus4': 297, 'G:sus2': 298, 'G:7': 299, 'G:maj7': 300, 'G:min7': 301, 'G:minmaj7': 302, 'G:maj6': 303, 'G:min6': 304, 'G:dim7': 305, 'G:hdim7': 306, 'G:maj9': 307, 'G:min9': 308, 'G:9': 309, 'G:min11': 310, 'G:11': 311, 'G:maj13': 312, 'G:min13': 313, 'G:13': 314, 'G:1': 315, 'G:5': 316, 'G': 317, 'G:7(b9)': 318, 'G:7(#9)': 319, 'G:7(#11)': 320, 'G:7(b13)': 321, 'G#:maj': 322, 'G#:min': 323, 'G#:aug': 324, 'G#:dim': 325, 'G#:sus4': 326, 'G#:sus2': 327, 'G#:7': 328, 'G#:maj7': 329, 'G#:min7': 330, 'G#:minmaj7': 331, 'G#:maj6': 332, 'G#:min6': 333, 'G#:dim7': 334, 'G#:hdim7': 335, 'G#:maj9': 336, 'G#:min9': 337, 'G#:9': 338, 'G#:min11': 339, 'G#:11': 340, 'G#:maj13': 341, 'G#:min13': 342, 'G#:13': 343, 'G#:1': 344, 'G#:5': 345, 'G#': 346, 'G#:7(b9)': 347, 'G#:7(#9)': 348, 'G#:7(#11)': 349, 'G#:7(b13)': 350, 'A:maj': 351, 'A:min': 352, 'A:aug': 353, 'A:dim': 354, 'A:sus4': 355, 'A:sus2': 356, 'A:7': 357, 'A:maj7': 358, 'A:min7': 359, 'A:minmaj7': 360, 'A:maj6': 361, 'A:min6': 362, 'A:dim7': 363, 'A:hdim7': 364, 'A:maj9': 365, 'A:min9': 366, 'A:9': 367, 'A:min11': 368, 'A:11': 369, 'A:maj13': 370, 'A:min13': 371, 'A:13': 372, 'A:1': 373, 'A:5': 374, 'A': 375, 'A:7(b9)': 376, 'A:7(#9)': 377, 'A:7(#11)': 378, 'A:7(b13)': 379, 'A#:maj': 380, 'A#:min': 381, 'A#:aug': 382, 'A#:dim': 383, 'A#:sus4': 384, 'A#:sus2': 385, 'A#:7': 386, 'A#:maj7': 387, 'A#:min7': 388, 'A#:minmaj7': 389, 'A#:maj6': 390, 'A#:min6': 391, 'A#:dim7': 392, 'A#:hdim7': 393, 'A#:maj9': 394, 'A#:min9': 395, 'A#:9': 396, 'A#:min11': 397, 'A#:11': 398, 'A#:maj13': 399, 'A#:min13': 400, 'A#:13': 401, 'A#:1': 402, 'A#:5': 403, 'A#': 404, 'A#:7(b9)': 405, 'A#:7(#9)': 406, 'A#:7(#11)': 407, 'A#:7(b13)': 408, 'B:maj': 409, 'B:min': 410, 'B:aug': 411, 'B:dim': 412, 'B:sus4': 413, 'B:sus2': 414, 'B:7': 415, 'B:maj7': 416, 'B:min7': 417, 'B:minmaj7': 418, 'B:maj6': 419, 'B:min6': 420, 'B:dim7': 421, 'B:hdim7': 422, 'B:maj9': 423, 'B:min9': 424, 'B:9': 425, 'B:min11': 426, 'B:11': 427, 'B:maj13': 428, 'B:min13': 429, 'B:13': 430, 'B:1': 431, 'B:5': 432, 'B': 433, 'B:7(b9)': 434, 'B:7(#9)': 435, 'B:7(#11)': 436, 'B:7(b13)': 437}\n"
     ]
    }
   ],
   "source": [
    "cstok.save_pretrained('saved_tokenizers/ChordSymbolTokenizer')\n",
    "cstok.from_pretrained('saved_tokenizers/ChordSymbolTokenizer')\n",
    "print(cstok.vocab)"
   ]
  },
  {
   "cell_type": "code",
   "execution_count": 14,
   "metadata": {},
   "outputs": [
    {
     "name": "stdout",
     "output_type": "stream",
     "text": [
      "{'<unk>': 0, '<pad>': 1, '<s>': 2, '</s>': 3, '<emp>': 198, '<mask>': 5, '<bar>': 6, '<h>': 7, '</m>': 8, '<fill>': 9, 'position_0x00': 98, 'position_0x16': 99, 'position_0x25': 100, 'position_0x33': 101, 'position_0x50': 102, 'position_0x66': 103, 'position_0x75': 104, 'position_0x83': 105, 'position_1x00': 106, 'position_1x16': 107, 'position_1x25': 108, 'position_1x33': 109, 'position_1x50': 110, 'position_1x66': 111, 'position_1x75': 112, 'position_1x83': 113, 'position_2x00': 114, 'position_2x16': 115, 'position_2x25': 116, 'position_2x33': 117, 'position_2x50': 118, 'position_2x66': 119, 'position_2x75': 120, 'position_2x83': 121, 'position_3x00': 122, 'position_3x16': 123, 'position_3x25': 124, 'position_3x33': 125, 'position_3x50': 126, 'position_3x66': 127, 'position_3x75': 128, 'position_3x83': 129, 'position_4x00': 130, 'position_4x16': 131, 'position_4x25': 132, 'position_4x33': 133, 'position_4x50': 134, 'position_4x66': 135, 'position_4x75': 136, 'position_4x83': 137, 'position_5x00': 138, 'position_5x16': 139, 'position_5x25': 140, 'position_5x33': 141, 'position_5x50': 142, 'position_5x66': 143, 'position_5x75': 144, 'position_5x83': 145, 'position_6x00': 146, 'position_6x16': 147, 'position_6x25': 148, 'position_6x33': 149, 'position_6x50': 150, 'position_6x66': 151, 'position_6x75': 152, 'position_6x83': 153, 'position_7x00': 154, 'position_7x16': 155, 'position_7x25': 156, 'position_7x33': 157, 'position_7x50': 158, 'position_7x66': 159, 'position_7x75': 160, 'position_7x83': 161, 'position_8x00': 162, 'position_8x16': 163, 'position_8x25': 164, 'position_8x33': 165, 'position_8x50': 166, 'position_8x66': 167, 'position_8x75': 168, 'position_8x83': 169, 'position_9x00': 170, 'position_9x16': 171, 'position_9x25': 172, 'position_9x33': 173, 'position_9x50': 174, 'position_9x66': 175, 'position_9x75': 176, 'position_9x83': 177, 'chord_pc_0': 199, 'chord_pc_1': 200, 'chord_pc_2': 201, 'chord_pc_3': 202, 'chord_pc_4': 203, 'chord_pc_5': 204, 'chord_pc_6': 205, 'chord_pc_7': 206, 'chord_pc_8': 207, 'chord_pc_9': 208, 'chord_pc_10': 209, 'chord_pc_11': 210}\n"
     ]
    }
   ],
   "source": [
    "pctok.save_pretrained('saved_tokenizers/PitchClassTokenizer')\n",
    "pctok.from_pretrained('saved_tokenizers/PitchClassTokenizer')\n",
    "print(pctok.vocab)"
   ]
  },
  {
   "cell_type": "code",
   "execution_count": 15,
   "metadata": {},
   "outputs": [
    {
     "name": "stdout",
     "output_type": "stream",
     "text": [
      "{'<unk>': 0, '<pad>': 1, '<s>': 2, '</s>': 3, '<rest>': 4, '<mask>': 5, '<bar>': 6, '<h>': 7, '</m>': 8, '<fill>': 9, 'P:21': 10, 'P:22': 11, 'P:23': 12, 'P:24': 13, 'P:25': 14, 'P:26': 15, 'P:27': 16, 'P:28': 17, 'P:29': 18, 'P:30': 19, 'P:31': 20, 'P:32': 21, 'P:33': 22, 'P:34': 23, 'P:35': 24, 'P:36': 25, 'P:37': 26, 'P:38': 27, 'P:39': 28, 'P:40': 29, 'P:41': 30, 'P:42': 31, 'P:43': 32, 'P:44': 33, 'P:45': 34, 'P:46': 35, 'P:47': 36, 'P:48': 37, 'P:49': 38, 'P:50': 39, 'P:51': 40, 'P:52': 41, 'P:53': 42, 'P:54': 43, 'P:55': 44, 'P:56': 45, 'P:57': 46, 'P:58': 47, 'P:59': 48, 'P:60': 49, 'P:61': 50, 'P:62': 51, 'P:63': 52, 'P:64': 53, 'P:65': 54, 'P:66': 55, 'P:67': 56, 'P:68': 57, 'P:69': 58, 'P:70': 59, 'P:71': 60, 'P:72': 61, 'P:73': 62, 'P:74': 63, 'P:75': 64, 'P:76': 65, 'P:77': 66, 'P:78': 67, 'P:79': 68, 'P:80': 69, 'P:81': 70, 'P:82': 71, 'P:83': 72, 'P:84': 73, 'P:85': 74, 'P:86': 75, 'P:87': 76, 'P:88': 77, 'P:89': 78, 'P:90': 79, 'P:91': 80, 'P:92': 81, 'P:93': 82, 'P:94': 83, 'P:95': 84, 'P:96': 85, 'P:97': 86, 'P:98': 87, 'P:99': 88, 'P:100': 89, 'P:101': 90, 'P:102': 91, 'P:103': 92, 'P:104': 93, 'P:105': 94, 'P:106': 95, 'P:107': 96, 'P:108': 97, 'position_0x00': 98, 'position_0x16': 99, 'position_0x25': 100, 'position_0x33': 101, 'position_0x50': 102, 'position_0x66': 103, 'position_0x75': 104, 'position_0x83': 105, 'position_1x00': 106, 'position_1x16': 107, 'position_1x25': 108, 'position_1x33': 109, 'position_1x50': 110, 'position_1x66': 111, 'position_1x75': 112, 'position_1x83': 113, 'position_2x00': 114, 'position_2x16': 115, 'position_2x25': 116, 'position_2x33': 117, 'position_2x50': 118, 'position_2x66': 119, 'position_2x75': 120, 'position_2x83': 121, 'position_3x00': 122, 'position_3x16': 123, 'position_3x25': 124, 'position_3x33': 125, 'position_3x50': 126, 'position_3x66': 127, 'position_3x75': 128, 'position_3x83': 129, 'position_4x00': 130, 'position_4x16': 131, 'position_4x25': 132, 'position_4x33': 133, 'position_4x50': 134, 'position_4x66': 135, 'position_4x75': 136, 'position_4x83': 137, 'position_5x00': 138, 'position_5x16': 139, 'position_5x25': 140, 'position_5x33': 141, 'position_5x50': 142, 'position_5x66': 143, 'position_5x75': 144, 'position_5x83': 145, 'position_6x00': 146, 'position_6x16': 147, 'position_6x25': 148, 'position_6x33': 149, 'position_6x50': 150, 'position_6x66': 151, 'position_6x75': 152, 'position_6x83': 153, 'position_7x00': 154, 'position_7x16': 155, 'position_7x25': 156, 'position_7x33': 157, 'position_7x50': 158, 'position_7x66': 159, 'position_7x75': 160, 'position_7x83': 161, 'position_8x00': 162, 'position_8x16': 163, 'position_8x25': 164, 'position_8x33': 165, 'position_8x50': 166, 'position_8x66': 167, 'position_8x75': 168, 'position_8x83': 169, 'position_9x00': 170, 'position_9x16': 171, 'position_9x25': 172, 'position_9x33': 173, 'position_9x50': 174, 'position_9x66': 175, 'position_9x75': 176, 'position_9x83': 177, 'ts_1x4': 178, 'ts_1x8': 179, 'ts_2x4': 180, 'ts_3x4': 181, 'ts_3x8': 182, 'ts_4x4': 183, 'ts_5x4': 184, 'ts_5x8': 185, 'ts_6x4': 186, 'ts_7x4': 187, 'ts_7x8': 188, 'ts_8x4': 189, 'ts_9x4': 190, 'ts_9x8': 191, 'ts_10x4': 192, 'ts_11x8': 193, 'ts_13x8': 194, 'ts_15x8': 195, 'ts_17x8': 196, 'ts_19x8': 197}\n"
     ]
    }
   ],
   "source": [
    "meltok.save_pretrained('saved_tokenizers/MelodyPitchTokenizer')\n",
    "meltok.from_pretrained('saved_tokenizers/MelodyPitchTokenizer')\n",
    "print(meltok.vocab)"
   ]
  },
  {
   "cell_type": "code",
   "execution_count": 4,
   "metadata": {},
   "outputs": [
    {
     "name": "stdout",
     "output_type": "stream",
     "text": [
      "211\n",
      "8\n",
      "7\n",
      "9\n"
     ]
    }
   ],
   "source": [
    "print(len(tokenizer.vocab))\n",
    "print(tokenizer.vocab['</m>'])\n",
    "print(tokenizer.vocab['<h>'])\n",
    "print(tokenizer.vocab['<fill>'])"
   ]
  },
  {
   "cell_type": "code",
   "execution_count": 5,
   "metadata": {},
   "outputs": [],
   "source": [
    "train_dataset = StructGPTMelHarmDataset(train_dir, tokenizer, max_length=512, num_bars=64, return_harmonization_labels=True)"
   ]
  },
  {
   "cell_type": "code",
   "execution_count": 6,
   "metadata": {},
   "outputs": [
    {
     "name": "stderr",
     "output_type": "stream",
     "text": [
      "/home/maximos/miniconda3/envs/torch/lib/python3.12/site-packages/music21/stream/base.py:3694: Music21DeprecationWarning: .flat is deprecated.  Call .flatten() instead\n",
      "  return self.iter().getElementsByClass(classFilterList)\n"
     ]
    }
   ],
   "source": [
    "d = train_dataset[0]"
   ]
  },
  {
   "cell_type": "code",
   "execution_count": 7,
   "metadata": {},
   "outputs": [
    {
     "name": "stdout",
     "output_type": "stream",
     "text": [
      "{'input_ids': tensor([  2,   6, 183,  98,   4, 106,  53, 108,  56, 112,  58, 118,  56, 122,\n",
      "         58, 126,  56,   6,  98,  61, 106,  58, 110,  58, 114,  56, 122,  54,\n",
      "        126,  56,   6,  98,  56, 102,   4,   6,  98,   4,   6,  98,   4, 106,\n",
      "         53, 108,  56, 112,  58, 118,  56, 122,  58, 128,  56,   6,  98,  61,\n",
      "        102,  61, 106,   4, 110,  58, 114,  56, 122,  54, 126,  56,   6,  98,\n",
      "         56, 102,   4,   6,  98,   4,   6,  98,   4, 102,  49, 106,  53, 108,\n",
      "         56, 112,  58, 118,  56, 122,   4, 126,  56,   6,  98,  61, 106,  58,\n",
      "        110,  58, 114,  56, 122,  54, 126,  56,   6,  98,  56, 102,  53, 110,\n",
      "          4, 126,   4,   6,  98,   4,   6,  98,   4, 106,  53, 112,  56, 114,\n",
      "         58, 118,  56, 126,  61,   6,  98,  61, 102,  61, 106,  58, 110,  56,\n",
      "        114,  56, 122,  54, 126,  56,   6,  98,  56, 106,   4,   6,  98,   4,\n",
      "        110,   4, 126,   4,   8,   6,  98, 199, 203, 206,   9,   6,   9,   6,\n",
      "          9,   6,   9,   6,   9,   6,   9,   6,   9,   6,   9,   6,   9,   6,\n",
      "          9,   6,   9,   6,   9,   6,   9,   6,   9,   6,   9,   6,   9,   7,\n",
      "          6,  98, 199, 203, 206, 114, 199, 201, 206,   6,  98, 199, 204, 208,\n",
      "        110, 199, 201, 206,   6,  98, 199, 203, 206, 114, 199, 201, 206,   6,\n",
      "         98, 199, 204, 206, 110, 199, 204, 208,   6,  98, 199, 203, 206, 114,\n",
      "        199, 201, 206,   6,  98, 199, 204, 208, 110, 199, 201, 206,   6,  98,\n",
      "        201, 204, 209, 112, 199, 204, 208,   6,  98, 199, 203, 206, 110, 201,\n",
      "        206, 210,   6,  98, 199, 203, 206, 114, 199, 201, 206,   6,  98, 199,\n",
      "        204, 208, 110, 199, 201, 206,   6,  98, 199, 203, 206, 114, 199, 201,\n",
      "        206,   6,  98, 199, 204, 206, 110, 199, 204, 208,   6,  98, 199, 203,\n",
      "        206, 114, 199, 201, 206,   6,  98, 199, 204, 208, 110, 199, 201, 206,\n",
      "          6,  98, 201, 204, 209, 112, 199, 204, 208,   6,  98, 199, 203, 206,\n",
      "        110, 201, 206,   3]), 'attention_mask': tensor([1, 1, 1, 1, 1, 1, 1, 1, 1, 1, 1, 1, 1, 1, 1, 1, 1, 1, 1, 1, 1, 1, 1, 1,\n",
      "        1, 1, 1, 1, 1, 1, 1, 1, 1, 1, 1, 1, 1, 1, 1, 1, 1, 1, 1, 1, 1, 1, 1, 1,\n",
      "        1, 1, 1, 1, 1, 1, 1, 1, 1, 1, 1, 1, 1, 1, 1, 1, 1, 1, 1, 1, 1, 1, 1, 1,\n",
      "        1, 1, 1, 1, 1, 1, 1, 1, 1, 1, 1, 1, 1, 1, 1, 1, 1, 1, 1, 1, 1, 1, 1, 1,\n",
      "        1, 1, 1, 1, 1, 1, 1, 1, 1, 1, 1, 1, 1, 1, 1, 1, 1, 1, 1, 1, 1, 1, 1, 1,\n",
      "        1, 1, 1, 1, 1, 1, 1, 1, 1, 1, 1, 1, 1, 1, 1, 1, 1, 1, 1, 1, 1, 1, 1, 1,\n",
      "        1, 1, 1, 1, 1, 1, 1, 1, 1, 1, 1, 1, 1, 1, 1, 1, 1, 1, 1, 1, 1, 1, 1, 1,\n",
      "        1, 1, 1, 1, 1, 1, 1, 1, 1, 1, 1, 1, 1, 1, 1, 1, 1, 1, 1, 1, 1, 1, 1, 1,\n",
      "        1, 1, 1, 1, 1, 1, 1, 1, 1, 1, 1, 1, 1, 1, 1, 1, 1, 1, 1, 1, 1, 1, 1, 1,\n",
      "        1, 1, 1, 1, 1, 1, 1, 1, 1, 1, 1, 1, 1, 1, 1, 1, 1, 1, 1, 1, 1, 1, 1, 1,\n",
      "        1, 1, 1, 1, 1, 1, 1, 1, 1, 1, 1, 1, 1, 1, 1, 1, 1, 1, 1, 1, 1, 1, 1, 1,\n",
      "        1, 1, 1, 1, 1, 1, 1, 1, 1, 1, 1, 1, 1, 1, 1, 1, 1, 1, 1, 1, 1, 1, 1, 1,\n",
      "        1, 1, 1, 1, 1, 1, 1, 1, 1, 1, 1, 1, 1, 1, 1, 1, 1, 1, 1, 1, 1, 1, 1, 1,\n",
      "        1, 1, 1, 1, 1, 1, 1, 1, 1, 1, 1, 1, 1, 1, 1, 1, 1, 1, 1, 1, 1, 1, 1, 1,\n",
      "        1, 1, 1, 1]), 'labels': tensor([-100, -100, -100, -100, -100, -100, -100, -100, -100, -100, -100, -100,\n",
      "        -100, -100, -100, -100, -100, -100, -100, -100, -100, -100, -100, -100,\n",
      "        -100, -100, -100, -100, -100, -100, -100, -100, -100, -100, -100, -100,\n",
      "        -100, -100, -100, -100, -100, -100, -100, -100, -100, -100, -100, -100,\n",
      "        -100, -100, -100, -100, -100, -100, -100, -100, -100, -100, -100, -100,\n",
      "        -100, -100, -100, -100, -100, -100, -100, -100, -100, -100, -100, -100,\n",
      "        -100, -100, -100, -100, -100, -100, -100, -100, -100, -100, -100, -100,\n",
      "        -100, -100, -100, -100, -100, -100, -100, -100, -100, -100, -100, -100,\n",
      "        -100, -100, -100, -100, -100, -100, -100, -100, -100, -100, -100, -100,\n",
      "        -100, -100, -100, -100, -100, -100, -100, -100, -100, -100, -100, -100,\n",
      "        -100, -100, -100, -100, -100, -100, -100, -100, -100, -100, -100, -100,\n",
      "        -100, -100, -100, -100, -100, -100, -100, -100, -100, -100, -100, -100,\n",
      "        -100, -100, -100, -100, -100, -100, -100, -100, -100, -100, -100, -100,\n",
      "        -100, -100, -100, -100, -100, -100, -100, -100, -100, -100, -100, -100,\n",
      "        -100, -100, -100, -100, -100, -100, -100, -100, -100, -100, -100, -100,\n",
      "        -100, -100, -100, -100, -100, -100, -100, -100, -100, -100, -100, -100,\n",
      "        -100, -100, -100, -100,    6,   98,  199,  203,  206,  114,  199,  201,\n",
      "         206,    6,   98,  199,  204,  208,  110,  199,  201,  206,    6,   98,\n",
      "         199,  203,  206,  114,  199,  201,  206,    6,   98,  199,  204,  206,\n",
      "         110,  199,  204,  208,    6,   98,  199,  203,  206,  114,  199,  201,\n",
      "         206,    6,   98,  199,  204,  208,  110,  199,  201,  206,    6,   98,\n",
      "         201,  204,  209,  112,  199,  204,  208,    6,   98,  199,  203,  206,\n",
      "         110,  201,  206,  210,    6,   98,  199,  203,  206,  114,  199,  201,\n",
      "         206,    6,   98,  199,  204,  208,  110,  199,  201,  206,    6,   98,\n",
      "         199,  203,  206,  114,  199,  201,  206,    6,   98,  199,  204,  206,\n",
      "         110,  199,  204,  208,    6,   98,  199,  203,  206,  114,  199,  201,\n",
      "         206,    6,   98,  199,  204,  208,  110,  199,  201,  206,    6,   98,\n",
      "         201,  204,  209,  112,  199,  204,  208,    6,   98,  199,  203,  206,\n",
      "         110,  201,  206,    3]), 'constraints_mask': tensor([0, 0, 0, 0, 0, 0, 0, 0, 0, 0, 0, 0, 0, 0, 0, 0, 0, 0, 0, 0, 0, 0, 0, 0,\n",
      "        0, 0, 0, 0, 0, 0, 0, 0, 0, 0, 0, 0, 0, 0, 0, 0, 0, 0, 0, 0, 0, 0, 0, 0,\n",
      "        0, 0, 0, 0, 0, 0, 0, 0, 0, 0, 0, 0, 0, 0, 0, 0, 0, 0, 0, 0, 0, 0, 0, 0,\n",
      "        0, 0, 0, 0, 0, 0, 0, 0, 0, 0, 0, 0, 0, 0, 0, 0, 0, 0, 0, 0, 0, 0, 0, 0,\n",
      "        0, 0, 0, 0, 0, 0, 0, 0, 0, 0, 0, 0, 0, 0, 0, 0, 0, 0, 0, 0, 0, 0, 0, 0,\n",
      "        0, 0, 0, 0, 0, 0, 0, 0, 0, 0, 0, 0, 0, 0, 0, 0, 0, 0, 0, 0, 0, 0, 0, 0,\n",
      "        0, 0, 0, 0, 0, 0, 0, 0, 0, 0, 0, 0, 0, 0, 0, 0, 1, 1, 1, 1, 0, 0, 0, 0,\n",
      "        0, 0, 0, 0, 0, 0, 0, 0, 0, 0, 0, 0, 0, 0, 0, 0, 0, 0, 0, 0, 0, 0, 0, 0,\n",
      "        0, 0, 0, 0, 0, 0, 0, 0, 0, 0, 0, 0, 0, 0, 0, 0, 0, 0, 0, 0, 0, 0, 0, 0,\n",
      "        0, 0, 0, 0, 0, 0, 0, 0, 0, 0, 0, 0, 0, 0, 0, 0, 0, 0, 0, 0, 0, 0, 0, 0,\n",
      "        0, 0, 0, 0, 0, 0, 0, 0, 0, 0, 0, 0, 0, 0, 0, 0, 0, 0, 0, 0, 0, 0, 0, 0,\n",
      "        0, 0, 0, 0, 0, 0, 0, 0, 0, 0, 0, 0, 0, 0, 0, 0, 0, 0, 0, 0, 0, 0, 0, 0,\n",
      "        0, 0, 0, 0, 0, 0, 0, 0, 0, 0, 0, 0, 0, 0, 0, 0, 0, 0, 0, 0, 0, 0, 0, 0,\n",
      "        0, 0, 0, 0, 0, 0, 0, 0, 0, 0, 0, 0, 0, 0, 0, 0, 0, 0, 0, 0, 0, 0, 0, 0,\n",
      "        0, 0, 0, 0])}\n"
     ]
    }
   ],
   "source": [
    "print(d)"
   ]
  },
  {
   "cell_type": "code",
   "execution_count": 8,
   "metadata": {},
   "outputs": [],
   "source": [
    "collator = GenCollator(tokenizer)"
   ]
  },
  {
   "cell_type": "code",
   "execution_count": 9,
   "metadata": {},
   "outputs": [],
   "source": [
    "trainloader = DataLoader(train_dataset, batch_size=16, shuffle=True, collate_fn=collator)"
   ]
  },
  {
   "cell_type": "code",
   "execution_count": 10,
   "metadata": {},
   "outputs": [
    {
     "name": "stderr",
     "output_type": "stream",
     "text": [
      "/home/maximos/miniconda3/envs/torch/lib/python3.12/site-packages/music21/stream/base.py:3694: Music21DeprecationWarning: .flat is deprecated.  Call .flatten() instead\n",
      "  return self.iter().getElementsByClass(classFilterList)\n",
      "In /home/maximos/miniconda3/envs/torch/lib/python3.12/site-packages/matplotlib/mpl-data/stylelib/bmh.mplstyle: .flat is deprecated.  Call .flatten() instead\n",
      "/home/maximos/miniconda3/envs/torch/lib/python3.12/site-packages/music21/stream/base.py:3694: Music21DeprecationWarning: .flat is deprecated.  Call .flatten() instead\n",
      "  return self.iter().getElementsByClass(classFilterList)\n"
     ]
    }
   ],
   "source": [
    "batch = next(iter(trainloader))"
   ]
  },
  {
   "cell_type": "code",
   "execution_count": 11,
   "metadata": {},
   "outputs": [
    {
     "name": "stdout",
     "output_type": "stream",
     "text": [
      "{'input_ids': tensor([[  2,   6, 183,  ...,   1,   1,   1],\n",
      "        [  2,   6, 183,  ...,   1,   1,   1],\n",
      "        [  2,   6, 183,  ...,   1,   1,   1],\n",
      "        ...,\n",
      "        [  2,   6, 183,  ...,   1,   1,   1],\n",
      "        [  2,   6, 181,  ...,   1,   1,   1],\n",
      "        [  2,   6, 186,  ...,   1,   1,   1]]), 'attention_mask': tensor([[1, 1, 1,  ..., 0, 0, 0],\n",
      "        [1, 1, 1,  ..., 0, 0, 0],\n",
      "        [1, 1, 1,  ..., 0, 0, 0],\n",
      "        ...,\n",
      "        [1, 1, 1,  ..., 0, 0, 0],\n",
      "        [1, 1, 1,  ..., 0, 0, 0],\n",
      "        [1, 1, 1,  ..., 0, 0, 0]]), 'labels': tensor([[-100, -100, -100,  ..., -100, -100, -100],\n",
      "        [-100, -100, -100,  ..., -100, -100, -100],\n",
      "        [-100, -100, -100,  ..., -100, -100, -100],\n",
      "        ...,\n",
      "        [-100, -100, -100,  ..., -100, -100, -100],\n",
      "        [-100, -100, -100,  ..., -100, -100, -100],\n",
      "        [-100, -100, -100,  ..., -100, -100, -100]]), 'constraints_mask': tensor([[0, 0, 0,  ..., 0, 0, 0],\n",
      "        [0, 0, 0,  ..., 0, 0, 0],\n",
      "        [0, 0, 0,  ..., 0, 0, 0],\n",
      "        ...,\n",
      "        [0, 0, 0,  ..., 0, 0, 0],\n",
      "        [0, 0, 0,  ..., 0, 0, 0],\n",
      "        [0, 0, 0,  ..., 0, 0, 0]])}\n"
     ]
    }
   ],
   "source": [
    "print(batch)"
   ]
  }
 ],
 "metadata": {
  "kernelspec": {
   "display_name": "torch",
   "language": "python",
   "name": "python3"
  },
  "language_info": {
   "codemirror_mode": {
    "name": "ipython",
    "version": 3
   },
   "file_extension": ".py",
   "mimetype": "text/x-python",
   "name": "python",
   "nbconvert_exporter": "python",
   "pygments_lexer": "ipython3",
   "version": "3.12.2"
  }
 },
 "nbformat": 4,
 "nbformat_minor": 2
}
