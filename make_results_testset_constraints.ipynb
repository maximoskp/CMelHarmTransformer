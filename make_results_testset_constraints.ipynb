{
 "cells": [
  {
   "cell_type": "code",
   "execution_count": 1,
   "id": "36368cfe",
   "metadata": {},
   "outputs": [],
   "source": [
    "import pandas as pd"
   ]
  },
  {
   "cell_type": "code",
   "execution_count": 2,
   "id": "ccb6ea3a",
   "metadata": {},
   "outputs": [],
   "source": [
    "bart_cs_df = pd.read_csv('tokenized/bart_beam_7_temp_0x0/ChordSymbolTokenizer.csv')\n",
    "bart_pc_df = pd.read_csv('tokenized/bart_beam_7_temp_0x0/PitchClassTokenizer.csv')\n",
    "gpt_cs_df = pd.read_csv('tokenized/gpt_beam_7_temp_0x0/ChordSymbolTokenizer.csv')\n",
    "gpt_pc_df = pd.read_csv('tokenized/gpt_beam_7_temp_0x0/PitchClassTokenizer.csv')"
   ]
  },
  {
   "cell_type": "code",
   "execution_count": 3,
   "id": "142d57df",
   "metadata": {},
   "outputs": [
    {
     "data": {
      "text/html": [
       "<div>\n",
       "<style scoped>\n",
       "    .dataframe tbody tr th:only-of-type {\n",
       "        vertical-align: middle;\n",
       "    }\n",
       "\n",
       "    .dataframe tbody tr th {\n",
       "        vertical-align: top;\n",
       "    }\n",
       "\n",
       "    .dataframe thead th {\n",
       "        text-align: right;\n",
       "    }\n",
       "</style>\n",
       "<table border=\"1\" class=\"dataframe\">\n",
       "  <thead>\n",
       "    <tr style=\"text-align: right;\">\n",
       "      <th></th>\n",
       "      <th>melody</th>\n",
       "      <th>real</th>\n",
       "      <th>generated</th>\n",
       "      <th>constraints</th>\n",
       "      <th>success</th>\n",
       "    </tr>\n",
       "  </thead>\n",
       "  <tbody>\n",
       "    <tr>\n",
       "      <th>0</th>\n",
       "      <td>&lt;s&gt; &lt;bar&gt; ts_4x4 position_0x00 P:64 position_2...</td>\n",
       "      <td>&lt;h&gt; &lt;bar&gt; position_0x00 C:maj &lt;bar&gt; position_0...</td>\n",
       "      <td>&lt;h&gt; &lt;bar&gt; position_0x00 C:maj &lt;bar&gt; position_0...</td>\n",
       "      <td>&lt;/m&gt; &lt;bar&gt; &lt;fill&gt; &lt;bar&gt; position_0x00 E:min &lt;f...</td>\n",
       "      <td>True</td>\n",
       "    </tr>\n",
       "    <tr>\n",
       "      <th>1</th>\n",
       "      <td>&lt;s&gt; &lt;bar&gt; ts_4x4 position_0x00 P:64 position_2...</td>\n",
       "      <td>&lt;h&gt; &lt;bar&gt; position_0x00 C:maj &lt;bar&gt; position_0...</td>\n",
       "      <td>&lt;h&gt; &lt;bar&gt; position_0x00 C:maj position_2x00 F:...</td>\n",
       "      <td>&lt;/m&gt; &lt;bar&gt; &lt;fill&gt; &lt;bar&gt; &lt;fill&gt; &lt;bar&gt; &lt;fill&gt; &lt;b...</td>\n",
       "      <td>True</td>\n",
       "    </tr>\n",
       "    <tr>\n",
       "      <th>2</th>\n",
       "      <td>&lt;s&gt; &lt;bar&gt; ts_4x4 position_0x00 &lt;rest&gt; position...</td>\n",
       "      <td>&lt;h&gt; &lt;bar&gt; position_0x00 G:maj position_1x50 G:...</td>\n",
       "      <td>&lt;h&gt; &lt;bar&gt; &lt;bar&gt; position_0x00 G:maj position_2...</td>\n",
       "      <td>&lt;/m&gt; &lt;bar&gt; &lt;fill&gt; &lt;bar&gt; &lt;fill&gt; &lt;bar&gt; &lt;fill&gt; &lt;b...</td>\n",
       "      <td>False</td>\n",
       "    </tr>\n",
       "    <tr>\n",
       "      <th>3</th>\n",
       "      <td>&lt;s&gt; &lt;bar&gt; ts_4x4 position_0x00 P:64 position_0...</td>\n",
       "      <td>&lt;h&gt; &lt;bar&gt; position_0x00 A:min position_1x50 F:...</td>\n",
       "      <td>&lt;h&gt; &lt;bar&gt; position_0x00 A:min position_2x00 F:...</td>\n",
       "      <td>&lt;/m&gt; &lt;bar&gt; &lt;fill&gt; &lt;bar&gt; &lt;fill&gt; &lt;bar&gt; &lt;fill&gt; &lt;b...</td>\n",
       "      <td>True</td>\n",
       "    </tr>\n",
       "    <tr>\n",
       "      <th>4</th>\n",
       "      <td>&lt;s&gt; &lt;bar&gt; ts_4x4 position_0x00 P:65 position_2...</td>\n",
       "      <td>&lt;h&gt; &lt;bar&gt; position_2x00 F:maj &lt;bar&gt; position_0...</td>\n",
       "      <td>&lt;h&gt; &lt;bar&gt; position_0x00 F:maj &lt;bar&gt; position_0...</td>\n",
       "      <td>&lt;/m&gt; &lt;bar&gt; &lt;fill&gt; position_2x00 F:maj &lt;fill&gt; &lt;...</td>\n",
       "      <td>False</td>\n",
       "    </tr>\n",
       "  </tbody>\n",
       "</table>\n",
       "</div>"
      ],
      "text/plain": [
       "                                              melody  \\\n",
       "0  <s> <bar> ts_4x4 position_0x00 P:64 position_2...   \n",
       "1  <s> <bar> ts_4x4 position_0x00 P:64 position_2...   \n",
       "2  <s> <bar> ts_4x4 position_0x00 <rest> position...   \n",
       "3  <s> <bar> ts_4x4 position_0x00 P:64 position_0...   \n",
       "4  <s> <bar> ts_4x4 position_0x00 P:65 position_2...   \n",
       "\n",
       "                                                real  \\\n",
       "0  <h> <bar> position_0x00 C:maj <bar> position_0...   \n",
       "1  <h> <bar> position_0x00 C:maj <bar> position_0...   \n",
       "2  <h> <bar> position_0x00 G:maj position_1x50 G:...   \n",
       "3  <h> <bar> position_0x00 A:min position_1x50 F:...   \n",
       "4  <h> <bar> position_2x00 F:maj <bar> position_0...   \n",
       "\n",
       "                                           generated  \\\n",
       "0  <h> <bar> position_0x00 C:maj <bar> position_0...   \n",
       "1  <h> <bar> position_0x00 C:maj position_2x00 F:...   \n",
       "2  <h> <bar> <bar> position_0x00 G:maj position_2...   \n",
       "3  <h> <bar> position_0x00 A:min position_2x00 F:...   \n",
       "4  <h> <bar> position_0x00 F:maj <bar> position_0...   \n",
       "\n",
       "                                         constraints  success  \n",
       "0  </m> <bar> <fill> <bar> position_0x00 E:min <f...     True  \n",
       "1  </m> <bar> <fill> <bar> <fill> <bar> <fill> <b...     True  \n",
       "2  </m> <bar> <fill> <bar> <fill> <bar> <fill> <b...    False  \n",
       "3  </m> <bar> <fill> <bar> <fill> <bar> <fill> <b...     True  \n",
       "4  </m> <bar> <fill> position_2x00 F:maj <fill> <...    False  "
      ]
     },
     "execution_count": 3,
     "metadata": {},
     "output_type": "execute_result"
    }
   ],
   "source": [
    "bart_cs_df.head()"
   ]
  },
  {
   "cell_type": "code",
   "execution_count": 4,
   "id": "a7999493",
   "metadata": {},
   "outputs": [
    {
     "name": "stdout",
     "output_type": "stream",
     "text": [
      "success:\n",
      "bart_cs:  0.5717105263157894\n",
      "bart_pc:  0.5256578947368421\n",
      "gpt_cs:  0.5953947368421053\n",
      "gpt_pc:  0.6289473684210526\n"
     ]
    }
   ],
   "source": [
    "print('success:')\n",
    "print('bart_cs: ', bart_cs_df['success'].mean())\n",
    "print('bart_pc: ', bart_pc_df['success'].mean())\n",
    "print('gpt_cs: ', gpt_cs_df['success'].mean())\n",
    "print('gpt_pc: ', gpt_pc_df['success'].mean())"
   ]
  },
  {
   "cell_type": "code",
   "execution_count": 5,
   "id": "a45474b7",
   "metadata": {},
   "outputs": [],
   "source": [
    "def get_avg_split_length(df, key):\n",
    "    split_lengths = df[key].apply(lambda x: len(x.split()))\n",
    "    return split_lengths.mean()"
   ]
  },
  {
   "cell_type": "code",
   "execution_count": 6,
   "id": "01ea695a",
   "metadata": {},
   "outputs": [
    {
     "name": "stdout",
     "output_type": "stream",
     "text": [
      "bart_cs_avg_length: 37.14342105263158\n",
      "bart_pc_avg_length: 57.195394736842104\n",
      "gpt_cs_avg_length: 35.20855263157895\n",
      "gpt_pc_avg_length: 68.79671052631579\n"
     ]
    }
   ],
   "source": [
    "bart_cs_avg_length = get_avg_split_length(bart_cs_df, 'generated')\n",
    "bart_pc_avg_length = get_avg_split_length(bart_pc_df, 'generated')\n",
    "gpt_cs_avg_length = get_avg_split_length(gpt_cs_df, 'generated')\n",
    "gpt_pc_avg_length = get_avg_split_length(gpt_pc_df, 'generated')\n",
    "print('bart_cs_avg_length:', bart_cs_avg_length)\n",
    "print('bart_pc_avg_length:', bart_pc_avg_length)\n",
    "print('gpt_cs_avg_length:', gpt_cs_avg_length)\n",
    "print('gpt_pc_avg_length:', gpt_pc_avg_length)"
   ]
  }
 ],
 "metadata": {
  "kernelspec": {
   "display_name": "torch",
   "language": "python",
   "name": "python3"
  },
  "language_info": {
   "codemirror_mode": {
    "name": "ipython",
    "version": 3
   },
   "file_extension": ".py",
   "mimetype": "text/x-python",
   "name": "python",
   "nbconvert_exporter": "python",
   "pygments_lexer": "ipython3",
   "version": "3.12.2"
  }
 },
 "nbformat": 4,
 "nbformat_minor": 5
}
