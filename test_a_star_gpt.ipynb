{
 "cells": [
  {
   "cell_type": "code",
   "execution_count": 1,
   "id": "64d4903c",
   "metadata": {},
   "outputs": [
    {
     "name": "stderr",
     "output_type": "stream",
     "text": [
      "/home/maximos/miniconda3/envs/torch/lib/python3.12/site-packages/tqdm/auto.py:21: TqdmWarning: IProgress not found. Please update jupyter and ipywidgets. See https://ipywidgets.readthedocs.io/en/stable/user_install.html\n",
      "  from .autonotebook import tqdm as notebook_tqdm\n",
      "/media/maindisk/maximos/repos/CMelHarmTransformer/a_star.py:27: SyntaxWarning: invalid escape sequence '\\m'\n",
      "  or '<\\m>' in tokens[i]:\n"
     ]
    }
   ],
   "source": [
    "from harmony_tokenizers_m21 import ChordSymbolTokenizer, PitchClassTokenizer, MelodyPitchTokenizer, MergedMelHarmTokenizer\n",
    "from data_utils import StructGPTMelHarmDataset, GenCollator\n",
    "from torch.utils.data import DataLoader\n",
    "import torch\n",
    "from transformers import AutoConfig, GPT2LMHeadModel\n",
    "import numpy as np\n",
    "\n",
    "from a_star import AStarGPT"
   ]
  },
  {
   "cell_type": "code",
   "execution_count": 2,
   "id": "a20b01a5",
   "metadata": {},
   "outputs": [],
   "source": [
    "test_dir = '/media/maindisk/maximos/data/hooktheory_test'\n",
    "\n",
    "cstok = ChordSymbolTokenizer()\n",
    "pctok = PitchClassTokenizer()\n",
    "meltok = MelodyPitchTokenizer()\n",
    "tokenizer = MergedMelHarmTokenizer(meltok, cstok)\n",
    "# tokenizer = MergedMelHarmTokenizer(meltok, pctok)\n",
    "\n",
    "test_dataset = StructGPTMelHarmDataset(test_dir, tokenizer, max_length=512, num_bars=16, return_harmonization_labels=True)\n",
    "\n",
    "collator = GenCollator(tokenizer)\n",
    "\n",
    "trainloader = DataLoader(test_dataset, batch_size=1, shuffle=False, collate_fn=collator)"
   ]
  },
  {
   "cell_type": "code",
   "execution_count": 3,
   "id": "95d19a24",
   "metadata": {},
   "outputs": [
    {
     "data": {
      "text/plain": [
       "GPT2LMHeadModel(\n",
       "  (transformer): GPT2Model(\n",
       "    (wte): Embedding(547, 512)\n",
       "    (wpe): Embedding(512, 512)\n",
       "    (drop): Dropout(p=0.1, inplace=False)\n",
       "    (h): ModuleList(\n",
       "      (0-7): 8 x GPT2Block(\n",
       "        (ln_1): LayerNorm((512,), eps=1e-05, elementwise_affine=True)\n",
       "        (attn): GPT2SdpaAttention(\n",
       "          (c_attn): Conv1D(nf=1536, nx=512)\n",
       "          (c_proj): Conv1D(nf=512, nx=512)\n",
       "          (attn_dropout): Dropout(p=0.1, inplace=False)\n",
       "          (resid_dropout): Dropout(p=0.1, inplace=False)\n",
       "        )\n",
       "        (ln_2): LayerNorm((512,), eps=1e-05, elementwise_affine=True)\n",
       "        (mlp): GPT2MLP(\n",
       "          (c_fc): Conv1D(nf=2048, nx=512)\n",
       "          (c_proj): Conv1D(nf=512, nx=2048)\n",
       "          (act): NewGELUActivation()\n",
       "          (dropout): Dropout(p=0.1, inplace=False)\n",
       "        )\n",
       "      )\n",
       "    )\n",
       "    (ln_f): LayerNorm((512,), eps=1e-05, elementwise_affine=True)\n",
       "  )\n",
       "  (lm_head): Linear(in_features=512, out_features=547, bias=False)\n",
       ")"
      ]
     },
     "execution_count": 3,
     "metadata": {},
     "output_type": "execute_result"
    }
   ],
   "source": [
    "config = AutoConfig.from_pretrained(\n",
    "    \"gpt2\",\n",
    "    vocab_size=len(tokenizer.vocab),\n",
    "    n_positions=512,\n",
    "    n_layer=8,\n",
    "    n_head=8,\n",
    "    pad_token_id=tokenizer.vocab[tokenizer.pad_token],\n",
    "    bos_token_id=tokenizer.vocab[tokenizer.bos_token],\n",
    "    eos_token_id=tokenizer.vocab[tokenizer.eos_token],\n",
    "    n_embd=512\n",
    ")\n",
    "\n",
    "model = GPT2LMHeadModel(config)\n",
    "\n",
    "model_path = 'saved_models/gpt/ChordSymbolTokenizer/ChordSymbolTokenizer.pt'\n",
    "# model_path = 'saved_models/gpt/PitchClassTokenizer/PitchClassTokenizer.pt'\n",
    "\n",
    "# device_name = 'cuda:0'\n",
    "device_name = 'cpu'\n",
    "if device_name == 'cpu':\n",
    "    device = torch.device('cpu')\n",
    "else:\n",
    "    if torch.cuda.is_available():\n",
    "        device = torch.device(device_name)\n",
    "    else:\n",
    "        print('Selected device not available: ' + device_name)\n",
    "\n",
    "checkpoint = torch.load(model_path, map_location=device_name, weights_only=True)\n",
    "model.load_state_dict(checkpoint)\n",
    "model.eval()\n",
    "model.to(device)"
   ]
  },
  {
   "cell_type": "code",
   "execution_count": 4,
   "id": "69ec48da",
   "metadata": {},
   "outputs": [
    {
     "name": "stderr",
     "output_type": "stream",
     "text": [
      "/home/maximos/miniconda3/envs/torch/lib/python3.12/site-packages/music21/stream/base.py:3694: Music21DeprecationWarning: .flat is deprecated.  Call .flatten() instead\n",
      "  return self.iter().getElementsByClass(classFilterList)\n"
     ]
    }
   ],
   "source": [
    "# batch = next(iter(trainloader))\n",
    "i = 0\n",
    "for batch in trainloader:\n",
    "    if i == 54:\n",
    "        break\n",
    "    i += 1"
   ]
  },
  {
   "cell_type": "code",
   "execution_count": 5,
   "id": "2586d77b",
   "metadata": {},
   "outputs": [
    {
     "name": "stdout",
     "output_type": "stream",
     "text": [
      "tensor([[  2,   6, 183,  98,  67, 114,  65,   6,  98,  58, 114,  65,   6,  98,\n",
      "          61, 114,  58,   6,  98,  56, 114,  53,   6,  98,  65, 114,  65,   6,\n",
      "          98,  65, 114,  65,   6,  98,  65, 114,  65,   6,  98,  65, 114,  65,\n",
      "           6,  98,  67, 114,  65,   6,  98,  58, 114,  65,   6,  98,  61, 114,\n",
      "          58,   6,  98,  56, 114,  53,   6,  98,  63, 114,  63,   6,  98,  63,\n",
      "         114,  63,   6,  98,  63, 114,  63,   8,   6,   9,   6,   9,   6,   9,\n",
      "           6,   9,   6,   9,   6,   9,   6,   9,   6,   9,   6,   9,   6,  98,\n",
      "         419,   9,   6,   9,   6,   9,   6,   9,   6,   9,   6,   9,   3,   7,\n",
      "           6,  98, 215, 114, 533,   6,  98, 419, 114, 272,   6,  98, 199, 114,\n",
      "         419,   6,  98, 499, 114, 468,   6,  98, 533, 114, 533,   6,  98, 533,\n",
      "         114, 533,   6,  98, 533, 114, 533,   6,  98, 533, 114, 533,   6,  98,\n",
      "         215, 114, 533,   6,  98, 419, 114, 272,   6,  98, 199, 114, 419,   6,\n",
      "          98, 499, 114, 468,   6,  98, 257, 114, 257,   6,  98, 257, 114, 257,\n",
      "           6,  98, 257, 114, 257,   3]])\n",
      "77\n",
      "tensor([[  2,   6, 183,  98,  67, 114,  65,   6,  98,  58, 114,  65,   6,  98,\n",
      "          61, 114,  58,   6,  98,  56, 114,  53,   6,  98,  65, 114,  65,   6,\n",
      "          98,  65, 114,  65,   6,  98,  65, 114,  65,   6,  98,  65, 114,  65,\n",
      "           6,  98,  67, 114,  65,   6,  98,  58, 114,  65,   6,  98,  61, 114,\n",
      "          58,   6,  98,  56, 114,  53,   6,  98,  63, 114,  63,   6,  98,  63,\n",
      "         114,  63,   6,  98,  63, 114,  63,   8,   6,   9,   6,   9,   6,   9,\n",
      "           6,   9,   6,   9,   6,   9,   6,   9,   6,   9,   6,   9,   6,  98,\n",
      "         419,   9,   6,   9,   6,   9,   6,   9,   6,   9,   6,   9,   3,   7,\n",
      "           6]])\n",
      "tensor([  8,   6,   9,   6,   9,   6,   9,   6,   9,   6,   9,   6,   9,   6,\n",
      "          9,   6,   9,   6,   9,   6,  98, 419,   9,   6,   9,   6,   9,   6,\n",
      "          9,   6,   9,   6,   9,   3,   7])\n"
     ]
    }
   ],
   "source": [
    "all_ids = batch['input_ids']\n",
    "print(all_ids)\n",
    "melody_end_index = all_ids[0].tolist().index( tokenizer.vocab['</m>'] )\n",
    "harmony_start_index = all_ids[0].tolist().index( tokenizer.vocab['<h>'] )\n",
    "print(melody_end_index)\n",
    "# constraint_ids = all_ids[0][melody_end_index:]\n",
    "# start_harmony_position = np.where( all_ids == harmony_start_index )[0][0]\n",
    "input_ids = all_ids[0][:(harmony_start_index+2)]\n",
    "constraint_ids = input_ids[melody_end_index:(harmony_start_index+1)]\n",
    "input_ids = input_ids.reshape(1, -1)\n",
    "print(input_ids)\n",
    "print(constraint_ids)"
   ]
  },
  {
   "cell_type": "code",
   "execution_count": 6,
   "id": "5513f003",
   "metadata": {},
   "outputs": [],
   "source": [
    "astar = AStarGPT( model, tokenizer, input_ids, constraint_ids, max_length=512, beam_width=50, lookahead_k=10 )"
   ]
  },
  {
   "cell_type": "code",
   "execution_count": 7,
   "id": "bc5c8ab3",
   "metadata": {},
   "outputs": [
    {
     "name": "stdout",
     "output_type": "stream",
     "text": [
      "10\n",
      "position_0x00\n",
      "['G:min11']\n"
     ]
    }
   ],
   "source": [
    "print(astar.constraint_bar)\n",
    "print(astar.position_token)\n",
    "print(astar.chord_tokens)"
   ]
  },
  {
   "cell_type": "code",
   "execution_count": 8,
   "id": "e8760519",
   "metadata": {},
   "outputs": [],
   "source": [
    "with open('debug.txt', 'w') as f:\n",
    "    print('starting debugging process', file=f)\n",
    "generated_ids, model_steps = astar.decode()\n",
    "generated_tokens = []"
   ]
  },
  {
   "cell_type": "code",
   "execution_count": 9,
   "id": "e23d1b8d",
   "metadata": {},
   "outputs": [
    {
     "name": "stdout",
     "output_type": "stream",
     "text": [
      "torch.Size([1, 285])\n"
     ]
    }
   ],
   "source": [
    "print(generated_ids.shape)"
   ]
  },
  {
   "cell_type": "code",
   "execution_count": 10,
   "id": "1f181c5a",
   "metadata": {},
   "outputs": [
    {
     "name": "stdout",
     "output_type": "stream",
     "text": [
      "8630\n"
     ]
    }
   ],
   "source": [
    "print(model_steps)"
   ]
  },
  {
   "cell_type": "code",
   "execution_count": 11,
   "id": "5e23e5d8",
   "metadata": {},
   "outputs": [
    {
     "name": "stdout",
     "output_type": "stream",
     "text": [
      "['<h>', '<bar>', '<bar>', '<bar>', '<bar>', '<bar>', '<bar>', '<bar>', '<bar>', '<bar>', 'position_0x25', 'A:min', 'position_0x50', 'A:min', 'position_0x75', 'A:min', 'position_1x50', 'A:min', 'position_2x25', 'A:min', 'position_2x50', 'A:min', 'position_2x75', 'A:min', 'position_3x25', 'A#:dim', 'position_3x75', 'A#', 'E:min7', 'position_4x50', 'E:min7', 'position_5x00', 'E:min7', '<h>', 'position_5x75', 'F#:maj7', '</m>', 'A:5', '<bar>', 'position_0x00', 'G:min11', 'position_3x75', 'E:min7', '<bar>', 'position_0x25', 'A:min', 'position_0x50', 'A:min', 'position_0x75', 'A:min', 'position_1x50', 'A:min', 'position_2x25', 'A:min', 'position_2x50', 'A:min', 'position_2x75', 'A:min', 'position_3x25', 'A:min', 'position_3x75', 'A:min', '<bar>', 'position_0x00', 'E:min7', 'position_0x25', 'E:min7', 'position_0x75', 'E:min7', 'position_1x50', 'E:min7', 'position_2x25', 'E:min7', 'position_2x50', 'E:min7', 'position_3x25', 'E:min7', 'position_3x75', 'E:min7', '<bar>', 'position_0x25', 'A:min', 'position_0x50', 'A:min', 'position_0x75', 'A:min', 'position_1x50', 'A:min', 'position_2x25', 'A:min', 'position_2x50', 'A:min', 'position_2x75', 'A:min', 'position_3x25', 'A:min', 'position_3x75', 'A:min', '<bar>', 'position_0x00', 'E:min7', 'position_0x25', 'E:min7', 'position_0x75', 'E:min7', 'position_1x50', 'E:min7', 'position_2x25', 'E:min7', 'position_2x50', 'E:min7', 'position_3x25', 'E:min7', 'position_3x75', 'E:min7', '<bar>', 'position_0x25', 'A:min', 'position_0x50', 'A:min', 'position_0x75', 'A:min', 'position_1x50', 'A:min', 'position_2x25', 'A:min', 'position_2x50', 'A:min', 'position_3x25', 'A:min', 'position_3x75', 'A:min', '<bar>', 'position_0x00', 'E:min7', 'position_0x75', 'E:min7', 'position_1x50', 'E:min7', 'position_2x25', 'E:min7', 'position_3x25', 'E:min7', 'position_3x75', 'E:min7', '<bar>', 'position_0x00', 'A:min', 'position_0x75', 'A:min', 'position_1x50', 'A:min', 'position_2x25', 'A:min', 'position_2x50', 'A:min', 'position_3x25', 'A:min', 'position_3x75', 'A:min', '<bar>', 'position_0x00', 'E:min7', 'position_0x75', 'E:min7', 'position_1x50', 'E:min7', 'position_2x25', 'E:min7', 'position_3x25', 'E:min7', 'position_3x75', 'E:min7', '</s>']\n"
     ]
    }
   ],
   "source": [
    "for i in generated_ids[0]:\n",
    "    generated_tokens.append( tokenizer.ids_to_tokens[ int(i) ].replace(' ','x') )\n",
    "print(generated_tokens[harmony_start_index:])"
   ]
  },
  {
   "cell_type": "code",
   "execution_count": 12,
   "id": "d1c371cc",
   "metadata": {},
   "outputs": [
    {
     "name": "stdout",
     "output_type": "stream",
     "text": [
      "['<h>']\n",
      "['<bar>']\n",
      "['<bar>']\n",
      "['<bar>']\n",
      "['<bar>']\n",
      "['<bar>']\n",
      "['<bar>']\n",
      "['<bar>']\n",
      "['<bar>']\n",
      "['<bar>', 'position_0x25', 'A:min', 'position_0x50', 'A:min', 'position_0x75', 'A:min', 'position_1x50', 'A:min', 'position_2x25', 'A:min', 'position_2x50', 'A:min', 'position_2x75', 'A:min', 'position_3x25', 'A#:dim', 'position_3x75', 'A#', 'E:min7', 'position_4x50', 'E:min7', 'position_5x00', 'E:min7', '<h>', 'position_5x75', 'F#:maj7', '</m>', 'A:5']\n",
      "['<bar>', 'position_0x00', 'G:min11', 'position_3x75', 'E:min7']\n",
      "['<bar>', 'position_0x25', 'A:min', 'position_0x50', 'A:min', 'position_0x75', 'A:min', 'position_1x50', 'A:min', 'position_2x25', 'A:min', 'position_2x50', 'A:min', 'position_2x75', 'A:min', 'position_3x25', 'A:min', 'position_3x75', 'A:min']\n",
      "['<bar>', 'position_0x00', 'E:min7', 'position_0x25', 'E:min7', 'position_0x75', 'E:min7', 'position_1x50', 'E:min7', 'position_2x25', 'E:min7', 'position_2x50', 'E:min7', 'position_3x25', 'E:min7', 'position_3x75', 'E:min7']\n",
      "['<bar>', 'position_0x25', 'A:min', 'position_0x50', 'A:min', 'position_0x75', 'A:min', 'position_1x50', 'A:min', 'position_2x25', 'A:min', 'position_2x50', 'A:min', 'position_2x75', 'A:min', 'position_3x25', 'A:min', 'position_3x75', 'A:min']\n",
      "['<bar>', 'position_0x00', 'E:min7', 'position_0x25', 'E:min7', 'position_0x75', 'E:min7', 'position_1x50', 'E:min7', 'position_2x25', 'E:min7', 'position_2x50', 'E:min7', 'position_3x25', 'E:min7', 'position_3x75', 'E:min7']\n",
      "['<bar>', 'position_0x25', 'A:min', 'position_0x50', 'A:min', 'position_0x75', 'A:min', 'position_1x50', 'A:min', 'position_2x25', 'A:min', 'position_2x50', 'A:min', 'position_3x25', 'A:min', 'position_3x75', 'A:min']\n",
      "['<bar>', 'position_0x00', 'E:min7', 'position_0x75', 'E:min7', 'position_1x50', 'E:min7', 'position_2x25', 'E:min7', 'position_3x25', 'E:min7', 'position_3x75', 'E:min7']\n",
      "['<bar>', 'position_0x00', 'A:min', 'position_0x75', 'A:min', 'position_1x50', 'A:min', 'position_2x25', 'A:min', 'position_2x50', 'A:min', 'position_3x25', 'A:min', 'position_3x75', 'A:min']\n",
      "['<bar>', 'position_0x00', 'E:min7', 'position_0x75', 'E:min7', 'position_1x50', 'E:min7', 'position_2x25', 'E:min7', 'position_3x25', 'E:min7', 'position_3x75', 'E:min7', '</s>']\n"
     ]
    }
   ],
   "source": [
    "t = generated_tokens[harmony_start_index:]\n",
    "line = []\n",
    "for i in range(len(t)):\n",
    "    line.append(t[i])\n",
    "    if i+1 < len(t) and 'bar' in t[i+1]:\n",
    "        print(line)\n",
    "        line = []\n",
    "print(line)"
   ]
  }
 ],
 "metadata": {
  "kernelspec": {
   "display_name": "torch",
   "language": "python",
   "name": "python3"
  },
  "language_info": {
   "codemirror_mode": {
    "name": "ipython",
    "version": 3
   },
   "file_extension": ".py",
   "mimetype": "text/x-python",
   "name": "python",
   "nbconvert_exporter": "python",
   "pygments_lexer": "ipython3",
   "version": "3.12.2"
  }
 },
 "nbformat": 4,
 "nbformat_minor": 5
}
